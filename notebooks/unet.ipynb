{
 "cells": [
  {
   "cell_type": "code",
   "execution_count": 8,
   "id": "initial_id",
   "metadata": {
    "collapsed": true,
    "ExecuteTime": {
     "end_time": "2024-04-06T08:35:30.753892452Z",
     "start_time": "2024-04-06T08:35:29.146164067Z"
    }
   },
   "outputs": [],
   "source": [
    "from dataloaders.patient_dataset import PatientDataset\n",
    "from models.unet_3d import UNet\n",
    "import pandas as pd"
   ]
  },
  {
   "cell_type": "code",
   "outputs": [],
   "source": [
    "images_64_path = \"/home/filiptkac/Downloads/abd-trauma-dataset-reduced-64\"\n",
    "labels_64_path = \"/home/filiptkac/Downloads/train_reduced_64.csv\""
   ],
   "metadata": {
    "collapsed": false,
    "ExecuteTime": {
     "end_time": "2024-04-06T08:35:31.696401268Z",
     "start_time": "2024-04-06T08:35:31.661741221Z"
    }
   },
   "id": "494b8a1bddfbce9",
   "execution_count": 9
  },
  {
   "cell_type": "code",
   "outputs": [],
   "source": [
    "df = pd.read_csv(labels_64_path)\n",
    "patient_dataset = PatientDataset(images_64_path, df)"
   ],
   "metadata": {
    "collapsed": false,
    "ExecuteTime": {
     "end_time": "2024-04-06T08:35:32.740696066Z",
     "start_time": "2024-04-06T08:35:32.711681278Z"
    }
   },
   "id": "1a1508869c63b81",
   "execution_count": 10
  },
  {
   "cell_type": "code",
   "outputs": [],
   "source": [
    "model = UNet(5)"
   ],
   "metadata": {
    "collapsed": false
   },
   "id": "16add96a80e25468"
  }
 ],
 "metadata": {
  "kernelspec": {
   "display_name": "Python 3",
   "language": "python",
   "name": "python3"
  },
  "language_info": {
   "codemirror_mode": {
    "name": "ipython",
    "version": 2
   },
   "file_extension": ".py",
   "mimetype": "text/x-python",
   "name": "python",
   "nbconvert_exporter": "python",
   "pygments_lexer": "ipython2",
   "version": "2.7.6"
  }
 },
 "nbformat": 4,
 "nbformat_minor": 5
}
