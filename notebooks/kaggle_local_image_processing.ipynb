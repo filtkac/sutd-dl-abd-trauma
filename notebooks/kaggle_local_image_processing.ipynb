{
 "cells": [
  {
   "cell_type": "markdown",
   "source": [
    "# Local image processing of raw images from kaggle\n",
    "\n",
    "This notebook processes the complete dataset from kaggle. It reduces the total amount of samples in one scan to a uniform amount for all the scans. (The cuts are selected in proportion)\n",
    "\n",
    "CTs with fewer cuts than the desired amount are skipped.\n",
    "\n",
    "The reduced dataset is saved in a new folder (defined by us) along with the new labels which also have the skipped CTs removed."
   ],
   "metadata": {
    "collapsed": false
   },
   "id": "6936d42ee36fc13f"
  },
  {
   "cell_type": "code",
   "outputs": [],
   "source": [
    "import os\n",
    "\n",
    "import pandas as pd\n",
    "\n",
    "%load_ext autoreload\n",
    "%autoreload 2\n",
    "from kaggle.kaggle_local_image_processing import get_images_information, copy_n_images_proportionally, get_reduced_df"
   ],
   "metadata": {
    "collapsed": false,
    "ExecuteTime": {
     "end_time": "2024-04-02T09:57:34.099431804Z",
     "start_time": "2024-04-02T09:57:33.300455983Z"
    }
   },
   "id": "1eca17450b9856c2",
   "execution_count": 1
  },
  {
   "cell_type": "code",
   "outputs": [],
   "source": [
    "labels_path = \"/home/filiptkac/Downloads/train.csv\"\n",
    "images_path = \"/home/filiptkac/Downloads/abd-trauma-dataset\"\n",
    "images_path_reduced = \"/home/filiptkac/Downloads/abd-trauma-dataset-reduced\""
   ],
   "metadata": {
    "collapsed": false,
    "ExecuteTime": {
     "end_time": "2024-04-02T09:57:42.628177773Z",
     "start_time": "2024-04-02T09:57:40.944106981Z"
    }
   },
   "id": "af19bdcc20b194d",
   "execution_count": 2
  },
  {
   "cell_type": "code",
   "outputs": [
    {
     "name": "stderr",
     "output_type": "stream",
     "text": [
      "100%|██████████| 3147/3147 [00:03<00:00, 789.97it/s]"
     ]
    },
    {
     "name": "stdout",
     "output_type": "stream",
     "text": [
      "minimum number of images in CT: 46, maximum number of images in CT: 1727\n",
      "number of CT scans with less than 100 images: 261\n"
     ]
    },
    {
     "name": "stderr",
     "output_type": "stream",
     "text": [
      "\n"
     ]
    }
   ],
   "source": [
    "minimum_images = 100\n",
    "min_images, max_images, patients_too_few_images = get_images_information(images_path, minimum_images)\n",
    "\n",
    "print(f\"minimum number of images in CT: {min_images}, maximum number of images in CT: {max_images}\")\n",
    "print(f\"number of CT scans with less than {minimum_images} images: {len(patients_too_few_images)}\")"
   ],
   "metadata": {
    "collapsed": false,
    "ExecuteTime": {
     "end_time": "2024-04-02T09:57:48.151682986Z",
     "start_time": "2024-04-02T09:57:44.057897832Z"
    }
   },
   "id": "86d31028ab9762dc",
   "execution_count": 3
  },
  {
   "cell_type": "code",
   "outputs": [
    {
     "name": "stderr",
     "output_type": "stream",
     "text": [
      "100%|██████████| 3147/3147 [02:33<00:00, 20.48it/s]\n"
     ]
    }
   ],
   "source": [
    "copy_n_images_proportionally(images_path, images_path_reduced, minimum_images, patients_too_few_images)"
   ],
   "metadata": {
    "collapsed": false,
    "ExecuteTime": {
     "end_time": "2024-03-25T14:39:34.342147373Z",
     "start_time": "2024-03-25T14:37:00.688905914Z"
    }
   },
   "id": "32b1699fefee7cc2",
   "execution_count": 137
  },
  {
   "cell_type": "code",
   "outputs": [
    {
     "name": "stdout",
     "output_type": "stream",
     "text": [
      "reduced patients amount: 2886\n",
      "expected reduced patients amount: 2886\n"
     ]
    }
   ],
   "source": [
    "original_patients = os.listdir(images_path)\n",
    "reduced_patients = os.listdir(images_path_reduced)\n",
    "print(f\"reduced patients amount: {len(reduced_patients)}\")\n",
    "print(f\"expected reduced patients amount: {len(original_patients) - len(patients_too_few_images)}\")"
   ],
   "metadata": {
    "collapsed": false,
    "ExecuteTime": {
     "end_time": "2024-04-02T09:57:55.046177558Z",
     "start_time": "2024-04-02T09:57:54.871053720Z"
    }
   },
   "id": "82b93be9cde1bd0e",
   "execution_count": 4
  },
  {
   "cell_type": "code",
   "outputs": [
    {
     "data": {
      "text/plain": "   patient_id  bowel_healthy  bowel_injury  extravasation_healthy  \\\n0       10004              1             0                      0   \n1       10005              1             0                      1   \n2       10007              1             0                      1   \n3       10026              1             0                      1   \n4       10051              1             0                      1   \n\n   extravasation_injury  kidney_healthy  kidney_low  kidney_high  \\\n0                     1               0           1            0   \n1                     0               1           0            0   \n2                     0               1           0            0   \n3                     0               1           0            0   \n4                     0               1           0            0   \n\n   liver_healthy  liver_low  liver_high  spleen_healthy  spleen_low  \\\n0              1          0           0               0           0   \n1              1          0           0               1           0   \n2              1          0           0               1           0   \n3              1          0           0               1           0   \n4              1          0           0               0           1   \n\n   spleen_high  any_injury  \n0            1           1  \n1            0           0  \n2            0           0  \n3            0           0  \n4            0           1  ",
      "text/html": "<div>\n<style scoped>\n    .dataframe tbody tr th:only-of-type {\n        vertical-align: middle;\n    }\n\n    .dataframe tbody tr th {\n        vertical-align: top;\n    }\n\n    .dataframe thead th {\n        text-align: right;\n    }\n</style>\n<table border=\"1\" class=\"dataframe\">\n  <thead>\n    <tr style=\"text-align: right;\">\n      <th></th>\n      <th>patient_id</th>\n      <th>bowel_healthy</th>\n      <th>bowel_injury</th>\n      <th>extravasation_healthy</th>\n      <th>extravasation_injury</th>\n      <th>kidney_healthy</th>\n      <th>kidney_low</th>\n      <th>kidney_high</th>\n      <th>liver_healthy</th>\n      <th>liver_low</th>\n      <th>liver_high</th>\n      <th>spleen_healthy</th>\n      <th>spleen_low</th>\n      <th>spleen_high</th>\n      <th>any_injury</th>\n    </tr>\n  </thead>\n  <tbody>\n    <tr>\n      <th>0</th>\n      <td>10004</td>\n      <td>1</td>\n      <td>0</td>\n      <td>0</td>\n      <td>1</td>\n      <td>0</td>\n      <td>1</td>\n      <td>0</td>\n      <td>1</td>\n      <td>0</td>\n      <td>0</td>\n      <td>0</td>\n      <td>0</td>\n      <td>1</td>\n      <td>1</td>\n    </tr>\n    <tr>\n      <th>1</th>\n      <td>10005</td>\n      <td>1</td>\n      <td>0</td>\n      <td>1</td>\n      <td>0</td>\n      <td>1</td>\n      <td>0</td>\n      <td>0</td>\n      <td>1</td>\n      <td>0</td>\n      <td>0</td>\n      <td>1</td>\n      <td>0</td>\n      <td>0</td>\n      <td>0</td>\n    </tr>\n    <tr>\n      <th>2</th>\n      <td>10007</td>\n      <td>1</td>\n      <td>0</td>\n      <td>1</td>\n      <td>0</td>\n      <td>1</td>\n      <td>0</td>\n      <td>0</td>\n      <td>1</td>\n      <td>0</td>\n      <td>0</td>\n      <td>1</td>\n      <td>0</td>\n      <td>0</td>\n      <td>0</td>\n    </tr>\n    <tr>\n      <th>3</th>\n      <td>10026</td>\n      <td>1</td>\n      <td>0</td>\n      <td>1</td>\n      <td>0</td>\n      <td>1</td>\n      <td>0</td>\n      <td>0</td>\n      <td>1</td>\n      <td>0</td>\n      <td>0</td>\n      <td>1</td>\n      <td>0</td>\n      <td>0</td>\n      <td>0</td>\n    </tr>\n    <tr>\n      <th>4</th>\n      <td>10051</td>\n      <td>1</td>\n      <td>0</td>\n      <td>1</td>\n      <td>0</td>\n      <td>1</td>\n      <td>0</td>\n      <td>0</td>\n      <td>1</td>\n      <td>0</td>\n      <td>0</td>\n      <td>0</td>\n      <td>1</td>\n      <td>0</td>\n      <td>1</td>\n    </tr>\n  </tbody>\n</table>\n</div>"
     },
     "execution_count": 151,
     "metadata": {},
     "output_type": "execute_result"
    }
   ],
   "source": [
    "df = pd.read_csv(labels_path)\n",
    "df.head(5)"
   ],
   "metadata": {
    "collapsed": false,
    "ExecuteTime": {
     "end_time": "2024-03-25T14:45:01.560814199Z",
     "start_time": "2024-03-25T14:45:01.516126454Z"
    }
   },
   "id": "f3e29efbc7d1c3cf",
   "execution_count": 151
  },
  {
   "cell_type": "code",
   "outputs": [
    {
     "name": "stdout",
     "output_type": "stream",
     "text": [
      "3147\n",
      "2886\n"
     ]
    }
   ],
   "source": [
    "print(df.shape[0])\n",
    "reduced_df = get_reduced_df(df, patients_too_few_images)\n",
    "print(reduced_df.shape[0])\n",
    "reduced_df.to_csv(\"/home/filiptkac/Downloads/train_reduced.csv\")"
   ],
   "metadata": {
    "collapsed": false,
    "ExecuteTime": {
     "end_time": "2024-03-25T14:45:37.955613294Z",
     "start_time": "2024-03-25T14:45:37.913248833Z"
    }
   },
   "id": "814cbf357405b1c6",
   "execution_count": 153
  },
  {
   "cell_type": "code",
   "outputs": [
    {
     "name": "stdout",
     "output_type": "stream",
     "text": [
      "folder analysis complete\n"
     ]
    }
   ],
   "source": [
    "reduced_patient_ids = reduced_df['patient_id'].values\n",
    "\n",
    "# make sure there are existing scans for all the patients in the new dataframe\n",
    "for pid in reduced_patient_ids:\n",
    "    if not os.path.exists(f\"{images_path_reduced}/{pid}\"):\n",
    "        print(f\"{images_path_reduced}/{pid} does not exist!!\")\n",
    "        \n",
    "print(\"folder analysis complete\")"
   ],
   "metadata": {
    "collapsed": false,
    "ExecuteTime": {
     "end_time": "2024-03-25T14:48:10.863310005Z",
     "start_time": "2024-03-25T14:48:10.819395431Z"
    }
   },
   "id": "45b06885a153c010",
   "execution_count": 155
  },
  {
   "cell_type": "code",
   "outputs": [
    {
     "name": "stdout",
     "output_type": "stream",
     "text": [
      "[1 0 0 1 0 1 0 1 0 0 0 0 1 1]\n"
     ]
    }
   ],
   "source": [
    "labels = reduced_df.iloc[0].drop('patient_id')\n",
    "print(labels.values)"
   ],
   "metadata": {
    "collapsed": false,
    "ExecuteTime": {
     "end_time": "2024-03-25T15:04:10.514983840Z",
     "start_time": "2024-03-25T15:04:10.512159240Z"
    }
   },
   "id": "b05fafe86c652843",
   "execution_count": 160
  }
 ],
 "metadata": {
  "kernelspec": {
   "display_name": "Python 3",
   "language": "python",
   "name": "python3"
  },
  "language_info": {
   "codemirror_mode": {
    "name": "ipython",
    "version": 2
   },
   "file_extension": ".py",
   "mimetype": "text/x-python",
   "name": "python",
   "nbconvert_exporter": "python",
   "pygments_lexer": "ipython2",
   "version": "2.7.6"
  }
 },
 "nbformat": 4,
 "nbformat_minor": 5
}
