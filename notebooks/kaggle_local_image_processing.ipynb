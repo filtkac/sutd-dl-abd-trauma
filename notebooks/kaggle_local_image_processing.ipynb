{
 "cells": [
  {
   "cell_type": "markdown",
   "source": [
    "# Local image processing of raw images from kaggle\n",
    "\n",
    "This notebook processes the complete dataset from kaggle. It reduces the total amount of samples in one scan to a uniform amount for all the scans. (The cuts are selected in proportion)\n",
    "\n",
    "CTs with fewer cuts than the desired amount are skipped.\n",
    "\n",
    "The reduced dataset is saved in a new folder (defined by us) along with the new labels which also have the skipped CTs removed."
   ],
   "metadata": {
    "collapsed": false
   },
   "id": "6936d42ee36fc13f"
  },
  {
   "cell_type": "code",
   "outputs": [],
   "source": [
    "import os\n",
    "\n",
    "import pandas as pd\n",
    "\n",
    "%load_ext autoreload\n",
    "%autoreload 2\n",
    "from kaggle.kaggle_local_image_processing import get_images_information, copy_n_images_proportionally, get_reduced_df"
   ],
   "metadata": {
    "collapsed": false,
    "ExecuteTime": {
     "end_time": "2024-04-10T17:08:33.629272889Z",
     "start_time": "2024-04-10T17:08:32.883895498Z"
    }
   },
   "id": "1eca17450b9856c2",
   "execution_count": 2
  },
  {
   "cell_type": "markdown",
   "source": [],
   "metadata": {
    "collapsed": false
   },
   "id": "db353f4269625ab"
  },
  {
   "cell_type": "code",
   "outputs": [],
   "source": [
    "labels_path = \"/home/filiptkac/Downloads/train.csv\"\n",
    "images_path = \"/home/filiptkac/Downloads/abd-trauma-dataset\"\n",
    "images_path_reduced = \"/home/filiptkac/Downloads/abd-trauma-dataset-reduced-64\"\n",
    "labels_path_reduced = \"/home/filiptkac/Downloads/train_reduced_64.csv\""
   ],
   "metadata": {
    "collapsed": false
   },
   "id": "adc3d2b4c3b53775"
  },
  {
   "cell_type": "code",
   "outputs": [],
   "source": [
    "minimum_images = 64\n",
    "min_images, max_images, patients_too_few_images = get_images_information(images_path, minimum_images)\n",
    "\n",
    "print(f\"minimum number of images in CT: {min_images}, maximum number of images in CT: {max_images}\")\n",
    "print(f\"number of CT scans with less than {minimum_images} images: {len(patients_too_few_images)}\")"
   ],
   "metadata": {
    "collapsed": false
   },
   "id": "8732696526d818f9"
  },
  {
   "cell_type": "code",
   "outputs": [],
   "source": [
    "copy_n_images_proportionally(images_path, images_path_reduced, minimum_images, patients_too_few_images)"
   ],
   "metadata": {
    "collapsed": false
   },
   "id": "5b4776322abd937d"
  },
  {
   "cell_type": "code",
   "outputs": [],
   "source": [
    "original_patients = os.listdir(images_path)\n",
    "reduced_patients = os.listdir(images_path_reduced)\n",
    "print(f\"reduced patients amount: {len(reduced_patients)}\")\n",
    "print(f\"expected reduced patients amount: {len(original_patients) - len(patients_too_few_images)}\")"
   ],
   "metadata": {
    "collapsed": false
   },
   "id": "adf1d51ccc6e94ab"
  },
  {
   "cell_type": "code",
   "outputs": [],
   "source": [
    "df = pd.read_csv(labels_path)\n",
    "df.head(5)"
   ],
   "metadata": {
    "collapsed": false
   },
   "id": "3b436c16a0e4dbc0"
  },
  {
   "cell_type": "code",
   "outputs": [],
   "source": [
    "print(df.shape[0])\n",
    "reduced_df = get_reduced_df(df, patients_too_few_images)\n",
    "print(reduced_df.shape[0])\n",
    "reduced_df.to_csv(labels_path_reduced)"
   ],
   "metadata": {
    "collapsed": false
   },
   "id": "8f3d03602bc38fb1"
  },
  {
   "cell_type": "code",
   "outputs": [],
   "source": [
    "reduced_patient_ids = reduced_df['patient_id'].values\n",
    "\n",
    "# make sure there are existing scans for all the patients in the new dataframe\n",
    "for pid in reduced_patient_ids:\n",
    "    if not os.path.exists(f\"{images_path_reduced}/{pid}\"):\n",
    "        print(f\"{images_path_reduced}/{pid} does not exist!!\")\n",
    "\n",
    "print(\"folder analysis complete\")"
   ],
   "metadata": {
    "collapsed": false
   },
   "id": "38ad51b001e3fb30"
  },
  {
   "cell_type": "code",
   "outputs": [
    {
     "name": "stdout",
     "output_type": "stream",
     "text": [
      "[1 0 0 1 0 1 0 1 0 0 0 0 1 1]\n"
     ]
    }
   ],
   "source": [
    "labels = reduced_df.iloc[0].drop('patient_id')\n",
    "print(labels.values)"
   ],
   "metadata": {
    "collapsed": false,
    "ExecuteTime": {
     "end_time": "2024-04-10T17:09:27.089135993Z",
     "start_time": "2024-04-10T17:09:27.010763858Z"
    }
   },
   "id": "b05fafe86c652843",
   "execution_count": 9
  },
  {
   "cell_type": "code",
   "outputs": [
    {
     "name": "stdout",
     "output_type": "stream",
     "text": [
      "      patient_id  bowel_healthy  bowel_injury  extravasation_healthy  \\\n",
      "0          10004              1             0                      0   \n",
      "1          10005              1             0                      1   \n",
      "2          10007              1             0                      1   \n",
      "3          10026              1             0                      1   \n",
      "4          10051              1             0                      1   \n",
      "...          ...            ...           ...                    ...   \n",
      "3141        9860              1             0                      1   \n",
      "3142        9951              1             0                      1   \n",
      "3143        9960              1             0                      1   \n",
      "3144        9961              1             0                      1   \n",
      "3145        9980              1             0                      1   \n",
      "\n",
      "      extravasation_injury  kidney_healthy  kidney_low  kidney_high  \\\n",
      "0                        1               0           1            0   \n",
      "1                        0               1           0            0   \n",
      "2                        0               1           0            0   \n",
      "3                        0               1           0            0   \n",
      "4                        0               1           0            0   \n",
      "...                    ...             ...         ...          ...   \n",
      "3141                     0               1           0            0   \n",
      "3142                     0               1           0            0   \n",
      "3143                     0               1           0            0   \n",
      "3144                     0               1           0            0   \n",
      "3145                     0               1           0            0   \n",
      "\n",
      "      liver_healthy  liver_low  liver_high  spleen_healthy  spleen_low  \\\n",
      "0                 1          0           0               0           0   \n",
      "1                 1          0           0               1           0   \n",
      "2                 1          0           0               1           0   \n",
      "3                 1          0           0               1           0   \n",
      "4                 1          0           0               0           1   \n",
      "...             ...        ...         ...             ...         ...   \n",
      "3141              1          0           0               1           0   \n",
      "3142              1          0           0               1           0   \n",
      "3143              1          0           0               1           0   \n",
      "3144              1          0           0               1           0   \n",
      "3145              1          0           0               0           0   \n",
      "\n",
      "      spleen_high  any_injury  \n",
      "0               1           1  \n",
      "1               0           0  \n",
      "2               0           0  \n",
      "3               0           0  \n",
      "4               0           1  \n",
      "...           ...         ...  \n",
      "3141            0           0  \n",
      "3142            0           0  \n",
      "3143            0           0  \n",
      "3144            0           0  \n",
      "3145            1           1  \n",
      "\n",
      "[3146 rows x 15 columns]\n"
     ]
    },
    {
     "ename": "KeyError",
     "evalue": "\"['Unnamed: 0'] not found in axis\"",
     "output_type": "error",
     "traceback": [
      "\u001B[0;31m---------------------------------------------------------------------------\u001B[0m",
      "\u001B[0;31mKeyError\u001B[0m                                  Traceback (most recent call last)",
      "Cell \u001B[0;32mIn[10], line 5\u001B[0m\n\u001B[1;32m      1\u001B[0m \u001B[38;5;28mprint\u001B[39m(df\u001B[38;5;241m.\u001B[39mhead(\u001B[38;5;241m-\u001B[39m\u001B[38;5;241m1\u001B[39m))\n\u001B[1;32m      3\u001B[0m columns_to_drop \u001B[38;5;241m=\u001B[39m [\u001B[38;5;124m'\u001B[39m\u001B[38;5;124mUnnamed: 0\u001B[39m\u001B[38;5;124m'\u001B[39m,\u001B[38;5;124m'\u001B[39m\u001B[38;5;124many_injury\u001B[39m\u001B[38;5;124m'\u001B[39m, \u001B[38;5;124m'\u001B[39m\u001B[38;5;124mspleen_high\u001B[39m\u001B[38;5;124m'\u001B[39m, \u001B[38;5;124m'\u001B[39m\u001B[38;5;124mspleen_low\u001B[39m\u001B[38;5;124m'\u001B[39m, \u001B[38;5;124m'\u001B[39m\u001B[38;5;124mliver_low\u001B[39m\u001B[38;5;124m'\u001B[39m, \u001B[38;5;124m'\u001B[39m\u001B[38;5;124mliver_high\u001B[39m\u001B[38;5;124m'\u001B[39m, \u001B[38;5;124m'\u001B[39m\u001B[38;5;124mkidney_high\u001B[39m\u001B[38;5;124m'\u001B[39m, \u001B[38;5;124m'\u001B[39m\u001B[38;5;124mkidney_low\u001B[39m\u001B[38;5;124m'\u001B[39m, \u001B[38;5;124m'\u001B[39m\u001B[38;5;124mbowel_injury\u001B[39m\u001B[38;5;124m'\u001B[39m, \u001B[38;5;124m'\u001B[39m\u001B[38;5;124mextravasation_injury\u001B[39m\u001B[38;5;124m'\u001B[39m]\n\u001B[0;32m----> 5\u001B[0m df\u001B[38;5;241m.\u001B[39mdrop(columns\u001B[38;5;241m=\u001B[39mcolumns_to_drop, inplace\u001B[38;5;241m=\u001B[39m\u001B[38;5;28;01mTrue\u001B[39;00m)\n\u001B[1;32m      6\u001B[0m df\u001B[38;5;241m.\u001B[39mhead(\u001B[38;5;241m-\u001B[39m\u001B[38;5;241m1\u001B[39m)\n\u001B[1;32m      7\u001B[0m df \u001B[38;5;241m=\u001B[39m df\u001B[38;5;241m.\u001B[39mrename(columns\u001B[38;5;241m=\u001B[39m{\u001B[38;5;124m'\u001B[39m\u001B[38;5;124mbowel_healthy\u001B[39m\u001B[38;5;124m'\u001B[39m: \u001B[38;5;124m'\u001B[39m\u001B[38;5;124mbowel\u001B[39m\u001B[38;5;124m'\u001B[39m,\n\u001B[1;32m      8\u001B[0m                         \u001B[38;5;124m'\u001B[39m\u001B[38;5;124mextravasation_healthy\u001B[39m\u001B[38;5;124m'\u001B[39m: \u001B[38;5;124m'\u001B[39m\u001B[38;5;124mextravasation\u001B[39m\u001B[38;5;124m'\u001B[39m,\n\u001B[1;32m      9\u001B[0m                         \u001B[38;5;124m'\u001B[39m\u001B[38;5;124mkidney_healthy\u001B[39m\u001B[38;5;124m'\u001B[39m: \u001B[38;5;124m'\u001B[39m\u001B[38;5;124mkidney\u001B[39m\u001B[38;5;124m'\u001B[39m,\n\u001B[1;32m     10\u001B[0m                         \u001B[38;5;124m'\u001B[39m\u001B[38;5;124mliver_healthy\u001B[39m\u001B[38;5;124m'\u001B[39m: \u001B[38;5;124m'\u001B[39m\u001B[38;5;124mliver\u001B[39m\u001B[38;5;124m'\u001B[39m,\n\u001B[1;32m     11\u001B[0m                         \u001B[38;5;124m'\u001B[39m\u001B[38;5;124mspleen_healthy\u001B[39m\u001B[38;5;124m'\u001B[39m: \u001B[38;5;124m'\u001B[39m\u001B[38;5;124mspleen\u001B[39m\u001B[38;5;124m'\u001B[39m})\n",
      "File \u001B[0;32m/opt/anaconda3/envs/sutd-dl/lib/python3.11/site-packages/pandas/core/frame.py:5344\u001B[0m, in \u001B[0;36mDataFrame.drop\u001B[0;34m(self, labels, axis, index, columns, level, inplace, errors)\u001B[0m\n\u001B[1;32m   5196\u001B[0m \u001B[38;5;28;01mdef\u001B[39;00m \u001B[38;5;21mdrop\u001B[39m(\n\u001B[1;32m   5197\u001B[0m     \u001B[38;5;28mself\u001B[39m,\n\u001B[1;32m   5198\u001B[0m     labels: IndexLabel \u001B[38;5;241m|\u001B[39m \u001B[38;5;28;01mNone\u001B[39;00m \u001B[38;5;241m=\u001B[39m \u001B[38;5;28;01mNone\u001B[39;00m,\n\u001B[0;32m   (...)\u001B[0m\n\u001B[1;32m   5205\u001B[0m     errors: IgnoreRaise \u001B[38;5;241m=\u001B[39m \u001B[38;5;124m\"\u001B[39m\u001B[38;5;124mraise\u001B[39m\u001B[38;5;124m\"\u001B[39m,\n\u001B[1;32m   5206\u001B[0m ) \u001B[38;5;241m-\u001B[39m\u001B[38;5;241m>\u001B[39m DataFrame \u001B[38;5;241m|\u001B[39m \u001B[38;5;28;01mNone\u001B[39;00m:\n\u001B[1;32m   5207\u001B[0m \u001B[38;5;250m    \u001B[39m\u001B[38;5;124;03m\"\"\"\u001B[39;00m\n\u001B[1;32m   5208\u001B[0m \u001B[38;5;124;03m    Drop specified labels from rows or columns.\u001B[39;00m\n\u001B[1;32m   5209\u001B[0m \n\u001B[0;32m   (...)\u001B[0m\n\u001B[1;32m   5342\u001B[0m \u001B[38;5;124;03m            weight  1.0     0.8\u001B[39;00m\n\u001B[1;32m   5343\u001B[0m \u001B[38;5;124;03m    \"\"\"\u001B[39;00m\n\u001B[0;32m-> 5344\u001B[0m     \u001B[38;5;28;01mreturn\u001B[39;00m \u001B[38;5;28msuper\u001B[39m()\u001B[38;5;241m.\u001B[39mdrop(\n\u001B[1;32m   5345\u001B[0m         labels\u001B[38;5;241m=\u001B[39mlabels,\n\u001B[1;32m   5346\u001B[0m         axis\u001B[38;5;241m=\u001B[39maxis,\n\u001B[1;32m   5347\u001B[0m         index\u001B[38;5;241m=\u001B[39mindex,\n\u001B[1;32m   5348\u001B[0m         columns\u001B[38;5;241m=\u001B[39mcolumns,\n\u001B[1;32m   5349\u001B[0m         level\u001B[38;5;241m=\u001B[39mlevel,\n\u001B[1;32m   5350\u001B[0m         inplace\u001B[38;5;241m=\u001B[39minplace,\n\u001B[1;32m   5351\u001B[0m         errors\u001B[38;5;241m=\u001B[39merrors,\n\u001B[1;32m   5352\u001B[0m     )\n",
      "File \u001B[0;32m/opt/anaconda3/envs/sutd-dl/lib/python3.11/site-packages/pandas/core/generic.py:4711\u001B[0m, in \u001B[0;36mNDFrame.drop\u001B[0;34m(self, labels, axis, index, columns, level, inplace, errors)\u001B[0m\n\u001B[1;32m   4709\u001B[0m \u001B[38;5;28;01mfor\u001B[39;00m axis, labels \u001B[38;5;129;01min\u001B[39;00m axes\u001B[38;5;241m.\u001B[39mitems():\n\u001B[1;32m   4710\u001B[0m     \u001B[38;5;28;01mif\u001B[39;00m labels \u001B[38;5;129;01mis\u001B[39;00m \u001B[38;5;129;01mnot\u001B[39;00m \u001B[38;5;28;01mNone\u001B[39;00m:\n\u001B[0;32m-> 4711\u001B[0m         obj \u001B[38;5;241m=\u001B[39m obj\u001B[38;5;241m.\u001B[39m_drop_axis(labels, axis, level\u001B[38;5;241m=\u001B[39mlevel, errors\u001B[38;5;241m=\u001B[39merrors)\n\u001B[1;32m   4713\u001B[0m \u001B[38;5;28;01mif\u001B[39;00m inplace:\n\u001B[1;32m   4714\u001B[0m     \u001B[38;5;28mself\u001B[39m\u001B[38;5;241m.\u001B[39m_update_inplace(obj)\n",
      "File \u001B[0;32m/opt/anaconda3/envs/sutd-dl/lib/python3.11/site-packages/pandas/core/generic.py:4753\u001B[0m, in \u001B[0;36mNDFrame._drop_axis\u001B[0;34m(self, labels, axis, level, errors, only_slice)\u001B[0m\n\u001B[1;32m   4751\u001B[0m         new_axis \u001B[38;5;241m=\u001B[39m axis\u001B[38;5;241m.\u001B[39mdrop(labels, level\u001B[38;5;241m=\u001B[39mlevel, errors\u001B[38;5;241m=\u001B[39merrors)\n\u001B[1;32m   4752\u001B[0m     \u001B[38;5;28;01melse\u001B[39;00m:\n\u001B[0;32m-> 4753\u001B[0m         new_axis \u001B[38;5;241m=\u001B[39m axis\u001B[38;5;241m.\u001B[39mdrop(labels, errors\u001B[38;5;241m=\u001B[39merrors)\n\u001B[1;32m   4754\u001B[0m     indexer \u001B[38;5;241m=\u001B[39m axis\u001B[38;5;241m.\u001B[39mget_indexer(new_axis)\n\u001B[1;32m   4756\u001B[0m \u001B[38;5;66;03m# Case for non-unique axis\u001B[39;00m\n\u001B[1;32m   4757\u001B[0m \u001B[38;5;28;01melse\u001B[39;00m:\n",
      "File \u001B[0;32m/opt/anaconda3/envs/sutd-dl/lib/python3.11/site-packages/pandas/core/indexes/base.py:7000\u001B[0m, in \u001B[0;36mIndex.drop\u001B[0;34m(self, labels, errors)\u001B[0m\n\u001B[1;32m   6998\u001B[0m \u001B[38;5;28;01mif\u001B[39;00m mask\u001B[38;5;241m.\u001B[39many():\n\u001B[1;32m   6999\u001B[0m     \u001B[38;5;28;01mif\u001B[39;00m errors \u001B[38;5;241m!=\u001B[39m \u001B[38;5;124m\"\u001B[39m\u001B[38;5;124mignore\u001B[39m\u001B[38;5;124m\"\u001B[39m:\n\u001B[0;32m-> 7000\u001B[0m         \u001B[38;5;28;01mraise\u001B[39;00m \u001B[38;5;167;01mKeyError\u001B[39;00m(\u001B[38;5;124mf\u001B[39m\u001B[38;5;124m\"\u001B[39m\u001B[38;5;132;01m{\u001B[39;00mlabels[mask]\u001B[38;5;241m.\u001B[39mtolist()\u001B[38;5;132;01m}\u001B[39;00m\u001B[38;5;124m not found in axis\u001B[39m\u001B[38;5;124m\"\u001B[39m)\n\u001B[1;32m   7001\u001B[0m     indexer \u001B[38;5;241m=\u001B[39m indexer[\u001B[38;5;241m~\u001B[39mmask]\n\u001B[1;32m   7002\u001B[0m \u001B[38;5;28;01mreturn\u001B[39;00m \u001B[38;5;28mself\u001B[39m\u001B[38;5;241m.\u001B[39mdelete(indexer)\n",
      "\u001B[0;31mKeyError\u001B[0m: \"['Unnamed: 0'] not found in axis\""
     ]
    }
   ],
   "source": [
    "print(df.head(-1))\n",
    "\n",
    "columns_to_drop = ['Unnamed: 0','any_injury', 'spleen_high', 'spleen_low', 'liver_low', 'liver_high', 'kidney_high', 'kidney_low', 'bowel_injury', 'extravasation_injury']\n",
    "\n",
    "df.drop(columns=columns_to_drop, inplace=True)\n",
    "df.head(-1)\n",
    "df = df.rename(columns={'bowel_healthy': 'bowel',\n",
    "                        'extravasation_healthy': 'extravasation',\n",
    "                        'kidney_healthy': 'kidney',\n",
    "                        'liver_healthy': 'liver',\n",
    "                        'spleen_healthy': 'spleen'})\n",
    "\n",
    "print(df.columns.values)\n",
    "\n",
    "df.to_csv('reduced_labels.csv', index=False)"
   ],
   "metadata": {
    "collapsed": false,
    "ExecuteTime": {
     "end_time": "2024-04-10T17:09:33.617592960Z",
     "start_time": "2024-04-10T17:09:30.264040419Z"
    }
   },
   "id": "336034cfe467829c",
   "execution_count": 10
  }
 ],
 "metadata": {
  "kernelspec": {
   "display_name": "Python 3",
   "language": "python",
   "name": "python3"
  },
  "language_info": {
   "codemirror_mode": {
    "name": "ipython",
    "version": 2
   },
   "file_extension": ".py",
   "mimetype": "text/x-python",
   "name": "python",
   "nbconvert_exporter": "python",
   "pygments_lexer": "ipython2",
   "version": "2.7.6"
  }
 },
 "nbformat": 4,
 "nbformat_minor": 5
}
