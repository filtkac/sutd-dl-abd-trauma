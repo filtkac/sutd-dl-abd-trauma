{
 "cells": [
  {
   "cell_type": "markdown",
   "source": [
    "# Kaggle download\n",
    "\n",
    "This is a copy of the kaggle notebook we used to download the data.\n",
    "It includes some image pre-processing (basically contrast editing) to account for the body area we're working with - abdominal trauma.\n",
    "\n",
    "The code (especially the image processing for the abdominal window) is inspired by the winning solution of the kaggle competition: [link](https://www.kaggle.com/competitions/rsna-2023-abdominal-trauma-detection/overview)\n",
    "\n",
    "The code is not runnable locally."
   ],
   "metadata": {
    "collapsed": false
   },
   "id": "8ad8ef53d77d3256"
  },
  {
   "cell_type": "code",
   "outputs": [],
   "source": [
    "# This Python 3 environment comes with many helpful analytics libraries installed\n",
    "# It is defined by the kaggle/python Docker image: https://github.com/kaggle/docker-python\n",
    "# For example, here's several helpful packages to load\n",
    "\n",
    "import os\n",
    "\n",
    "!pip install dicomsdl\n",
    "import dicomsdl\n",
    "import zipfile\n",
    "from tqdm import tqdm\n",
    "from kaggle.kaggle_download import __dataset__to_numpy_image, glob_sorted, load_volume, save_volume\n",
    "\n",
    "# Input data files are available in the read-only \"../input/\" directory\n",
    "# For example, running this (by clicking run or pressing Shift+Enter) will list all files under the input directory\n",
    "\n",
    "\n",
    "# You can write up to 20GB to the current directory (/kaggle/working/) that gets preserved as output when you create a version using \"Save & Run All\" \n",
    "# You can also write temporary files to /kaggle/temp/, but they won't be saved outside of the current session"
   ],
   "metadata": {
    "collapsed": false
   },
   "id": "e11db0d0926a7cac"
  },
  {
   "cell_type": "code",
   "outputs": [],
   "source": [
    "dicomsdl._dicomsdl.DataSet.to_numpy_image = __dataset__to_numpy_image\n",
    "\n",
    "# Define your preprocessing functions here\n",
    "IMAGE_FOLDER = '/kaggle/input/rsna-2023-abdominal-trauma-detection/train_images/'\n",
    "OUTPUT_FOLDER = \"/kaggle/working/output\"\n",
    "\n",
    "patients = os.listdir(f\"{IMAGE_FOLDER}\")\n",
    "sorted_patients = sorted(patients, key=lambda x: int(x))\n",
    "print(f\"amount of patients\", {len(sorted_patients)})\n",
    "# we download the data in batches\n",
    "batch = range(0, 1000)\n",
    "\n",
    "for i in tqdm(batch):\n",
    "    patient = sorted_patients[i]\n",
    "    studies = os.listdir(f'{IMAGE_FOLDER}/{patient}')\n",
    "    #take only the first study\n",
    "    study = studies[0]\n",
    "    files = glob_sorted(f\"{IMAGE_FOLDER}/{patient}/{study}/*\")\n",
    "\n",
    "    # shape = (number of images, height, width)\n",
    "    volume = load_volume(files)\n",
    "    save_volume(volume, patient, OUTPUT_FOLDER, (128, 128))\n",
    "\n",
    "with zipfile.ZipFile(f\"/kaggle/working/batch_{batch}.zip\", 'w', zipfile.ZIP_DEFLATED) as zipf:\n",
    "    for root, _, files in os.walk(OUTPUT_FOLDER):\n",
    "        for file in files:\n",
    "            zipf.write(os.path.join(root, file), os.path.relpath(os.path.join(root, file), OUTPUT_FOLDER))\n"
   ],
   "metadata": {
    "collapsed": false
   },
   "id": "e7931ea0c9885858"
  },
  {
   "cell_type": "code",
   "outputs": [],
   "source": [
    "# to delete the download folder\n",
    "\"\"\"\n",
    "import shutil\n",
    "import os\n",
    "\n",
    "def delete_folder(folder_path):\n",
    "    try:\n",
    "        # Attempt to remove the folder and its contents\n",
    "        shutil.rmtree(folder_path)\n",
    "        print(f\"Folder '{folder_path}' successfully deleted.\")\n",
    "    except Exception as e:\n",
    "        print(f\"Error occurred while deleting folder '{folder_path}': {e}\")\n",
    "\n",
    "# Example usage:\n",
    "folder_to_delete = \"/kaggle/working/output\"\n",
    "\n",
    "delete_folder(folder_to_delete)\n",
    "\"\"\""
   ],
   "metadata": {
    "collapsed": false
   },
   "id": "e7909871ecac24e6"
  }
 ],
 "metadata": {
  "kernelspec": {
   "display_name": "Python 3",
   "language": "python",
   "name": "python3"
  },
  "language_info": {
   "codemirror_mode": {
    "name": "ipython",
    "version": 2
   },
   "file_extension": ".py",
   "mimetype": "text/x-python",
   "name": "python",
   "nbconvert_exporter": "python",
   "pygments_lexer": "ipython2",
   "version": "2.7.6"
  }
 },
 "nbformat": 4,
 "nbformat_minor": 5
}
