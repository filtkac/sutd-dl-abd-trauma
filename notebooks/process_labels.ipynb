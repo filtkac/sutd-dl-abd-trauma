{
 "cells": [
  {
   "cell_type": "code",
   "execution_count": 1,
   "metadata": {},
   "outputs": [
    {
     "data": {
      "text/html": [
       "<div>\n",
       "<style scoped>\n",
       "    .dataframe tbody tr th:only-of-type {\n",
       "        vertical-align: middle;\n",
       "    }\n",
       "\n",
       "    .dataframe tbody tr th {\n",
       "        vertical-align: top;\n",
       "    }\n",
       "\n",
       "    .dataframe thead th {\n",
       "        text-align: right;\n",
       "    }\n",
       "</style>\n",
       "<table border=\"1\" class=\"dataframe\">\n",
       "  <thead>\n",
       "    <tr style=\"text-align: right;\">\n",
       "      <th></th>\n",
       "      <th>Unnamed: 0</th>\n",
       "      <th>patient_id</th>\n",
       "      <th>bowel_healthy</th>\n",
       "      <th>bowel_injury</th>\n",
       "      <th>extravasation_healthy</th>\n",
       "      <th>extravasation_injury</th>\n",
       "      <th>kidney_healthy</th>\n",
       "      <th>kidney_low</th>\n",
       "      <th>kidney_high</th>\n",
       "      <th>liver_healthy</th>\n",
       "      <th>liver_low</th>\n",
       "      <th>liver_high</th>\n",
       "      <th>spleen_healthy</th>\n",
       "      <th>spleen_low</th>\n",
       "      <th>spleen_high</th>\n",
       "      <th>any_injury</th>\n",
       "    </tr>\n",
       "  </thead>\n",
       "  <tbody>\n",
       "    <tr>\n",
       "      <th>0</th>\n",
       "      <td>0</td>\n",
       "      <td>10004</td>\n",
       "      <td>1</td>\n",
       "      <td>0</td>\n",
       "      <td>0</td>\n",
       "      <td>1</td>\n",
       "      <td>0</td>\n",
       "      <td>1</td>\n",
       "      <td>0</td>\n",
       "      <td>1</td>\n",
       "      <td>0</td>\n",
       "      <td>0</td>\n",
       "      <td>0</td>\n",
       "      <td>0</td>\n",
       "      <td>1</td>\n",
       "      <td>1</td>\n",
       "    </tr>\n",
       "    <tr>\n",
       "      <th>1</th>\n",
       "      <td>1</td>\n",
       "      <td>10005</td>\n",
       "      <td>1</td>\n",
       "      <td>0</td>\n",
       "      <td>1</td>\n",
       "      <td>0</td>\n",
       "      <td>1</td>\n",
       "      <td>0</td>\n",
       "      <td>0</td>\n",
       "      <td>1</td>\n",
       "      <td>0</td>\n",
       "      <td>0</td>\n",
       "      <td>1</td>\n",
       "      <td>0</td>\n",
       "      <td>0</td>\n",
       "      <td>0</td>\n",
       "    </tr>\n",
       "    <tr>\n",
       "      <th>2</th>\n",
       "      <td>2</td>\n",
       "      <td>10007</td>\n",
       "      <td>1</td>\n",
       "      <td>0</td>\n",
       "      <td>1</td>\n",
       "      <td>0</td>\n",
       "      <td>1</td>\n",
       "      <td>0</td>\n",
       "      <td>0</td>\n",
       "      <td>1</td>\n",
       "      <td>0</td>\n",
       "      <td>0</td>\n",
       "      <td>1</td>\n",
       "      <td>0</td>\n",
       "      <td>0</td>\n",
       "      <td>0</td>\n",
       "    </tr>\n",
       "  </tbody>\n",
       "</table>\n",
       "</div>"
      ],
      "text/plain": [
       "   Unnamed: 0  patient_id  bowel_healthy  bowel_injury  extravasation_healthy  \\\n",
       "0           0       10004              1             0                      0   \n",
       "1           1       10005              1             0                      1   \n",
       "2           2       10007              1             0                      1   \n",
       "\n",
       "   extravasation_injury  kidney_healthy  kidney_low  kidney_high  \\\n",
       "0                     1               0           1            0   \n",
       "1                     0               1           0            0   \n",
       "2                     0               1           0            0   \n",
       "\n",
       "   liver_healthy  liver_low  liver_high  spleen_healthy  spleen_low  \\\n",
       "0              1          0           0               0           0   \n",
       "1              1          0           0               1           0   \n",
       "2              1          0           0               1           0   \n",
       "\n",
       "   spleen_high  any_injury  \n",
       "0            1           1  \n",
       "1            0           0  \n",
       "2            0           0  "
      ]
     },
     "execution_count": 1,
     "metadata": {},
     "output_type": "execute_result"
    }
   ],
   "source": [
    "import pandas as pd\n",
    "\n",
    "labels_path = \"../dataset/reduced/unprocessed_train_reduced.csv\"\n",
    "df = pd.read_csv(labels_path)\n",
    "df.head(3)"
   ]
  },
  {
   "cell_type": "code",
   "execution_count": 2,
   "metadata": {},
   "outputs": [
    {
     "data": {
      "text/plain": [
       "(2886, 16)"
      ]
     },
     "execution_count": 2,
     "metadata": {},
     "output_type": "execute_result"
    }
   ],
   "source": [
    "df.shape"
   ]
  },
  {
   "cell_type": "markdown",
   "metadata": {},
   "source": [
    "# Some (not even exploratory) data analysis"
   ]
  },
  {
   "cell_type": "markdown",
   "metadata": {},
   "source": [
    "Let us analysis the columns to ensure that they are the values we expect. We want to ensure that:\n",
    "1. For any `healthy` and `injury` column only one or the other occurs (e.g. cannot be both `healthy=1` and `injury=1`)\n",
    "2. We want to ensure `_low` and `_high` also sum to one"
   ]
  },
  {
   "cell_type": "code",
   "execution_count": 3,
   "metadata": {},
   "outputs": [],
   "source": [
    "checks = [\n",
    "    df[(df[\"bowel_healthy\"] == 1) & (df[\"bowel_injury\"] == 1)],\n",
    "    df[(df[\"bowel_healthy\"] == 0) & (df[\"bowel_injury\"] == 0)],\n",
    "    df[(df[\"extravasation_healthy\"] == 1) & (df[\"extravasation_injury\"] == 1)],\n",
    "    df[(df[\"extravasation_healthy\"] == 0) & (df[\"extravasation_injury\"] == 0)],\n",
    "    df[(df[\"kidney_low\"] == 1) & (df[\"kidney_high\"] == 1)],\n",
    "    df[(df[\"liver_low\"] == 1) & (df[\"liver_high\"] == 1)],\n",
    "    df[(df[\"spleen_low\"] == 1) & (df[\"spleen_high\"] == 1)],\n",
    "    df[(df[\"kidney_healthy\"] == 0) & (df[\"kidney_low\"] == 0) & (df[\"kidney_high\"] == 0)],\n",
    "    df[(df[\"liver_healthy\"] == 0) & (df[\"liver_low\"] == 1) & (df[\"liver_high\"] == 1)],\n",
    "    df[(df[\"spleen_healthy\"] == 0) & (df[\"spleen_low\"] == 1) & (df[\"spleen_high\"] == 1)],\n",
    "]\n",
    "\n",
    "for check in checks:\n",
    "    assert len(check) == 0"
   ]
  },
  {
   "cell_type": "code",
   "execution_count": 4,
   "metadata": {},
   "outputs": [],
   "source": [
    "df[\"bowel\"] = (df[\"bowel_injury\"] == 1).astype(int) # bowel is either injured or not\n",
    "df[\"extravastion\"] = (df[\"extravasation_injury\"] == 1).astype(int)\n",
    "df[\"kidney\"] = (df[\"kidney_healthy\"] == 0).astype(int)\n",
    "df[\"liver\"] = (df[\"liver_healthy\"] == 0).astype(int)\n",
    "df[\"spleen\"] = (df[\"spleen_healthy\"] == 0).astype(int)"
   ]
  },
  {
   "cell_type": "code",
   "execution_count": 5,
   "metadata": {},
   "outputs": [
    {
     "name": "stdout",
     "output_type": "stream",
     "text": [
      "bowel\n",
      "0    2827\n",
      "1      59\n",
      "Name: count, dtype: int64\n",
      "extravastion\n",
      "0    2697\n",
      "1     189\n",
      "Name: count, dtype: int64\n",
      "kidney\n",
      "0    2718\n",
      "1     168\n",
      "Name: count, dtype: int64\n",
      "liver\n",
      "0    2585\n",
      "1     301\n",
      "Name: count, dtype: int64\n",
      "spleen\n",
      "0    2552\n",
      "1     334\n",
      "Name: count, dtype: int64\n"
     ]
    }
   ],
   "source": [
    "print(df[\"bowel\"].value_counts())\n",
    "print(df[\"extravastion\"].value_counts())\n",
    "print(df[\"kidney\"].value_counts())\n",
    "print(df[\"liver\"].value_counts())\n",
    "print(df[\"spleen\"].value_counts())"
   ]
  },
  {
   "cell_type": "code",
   "execution_count": 6,
   "metadata": {},
   "outputs": [
    {
     "data": {
      "text/html": [
       "<div>\n",
       "<style scoped>\n",
       "    .dataframe tbody tr th:only-of-type {\n",
       "        vertical-align: middle;\n",
       "    }\n",
       "\n",
       "    .dataframe tbody tr th {\n",
       "        vertical-align: top;\n",
       "    }\n",
       "\n",
       "    .dataframe thead th {\n",
       "        text-align: right;\n",
       "    }\n",
       "</style>\n",
       "<table border=\"1\" class=\"dataframe\">\n",
       "  <thead>\n",
       "    <tr style=\"text-align: right;\">\n",
       "      <th></th>\n",
       "      <th>patient_id</th>\n",
       "      <th>bowel</th>\n",
       "      <th>extravastion</th>\n",
       "      <th>kidney</th>\n",
       "      <th>liver</th>\n",
       "      <th>spleen</th>\n",
       "    </tr>\n",
       "  </thead>\n",
       "  <tbody>\n",
       "    <tr>\n",
       "      <th>0</th>\n",
       "      <td>10004</td>\n",
       "      <td>0</td>\n",
       "      <td>1</td>\n",
       "      <td>1</td>\n",
       "      <td>0</td>\n",
       "      <td>1</td>\n",
       "    </tr>\n",
       "    <tr>\n",
       "      <th>1</th>\n",
       "      <td>10005</td>\n",
       "      <td>0</td>\n",
       "      <td>0</td>\n",
       "      <td>0</td>\n",
       "      <td>0</td>\n",
       "      <td>0</td>\n",
       "    </tr>\n",
       "    <tr>\n",
       "      <th>2</th>\n",
       "      <td>10007</td>\n",
       "      <td>0</td>\n",
       "      <td>0</td>\n",
       "      <td>0</td>\n",
       "      <td>0</td>\n",
       "      <td>0</td>\n",
       "    </tr>\n",
       "    <tr>\n",
       "      <th>3</th>\n",
       "      <td>10026</td>\n",
       "      <td>0</td>\n",
       "      <td>0</td>\n",
       "      <td>0</td>\n",
       "      <td>0</td>\n",
       "      <td>0</td>\n",
       "    </tr>\n",
       "    <tr>\n",
       "      <th>4</th>\n",
       "      <td>10051</td>\n",
       "      <td>0</td>\n",
       "      <td>0</td>\n",
       "      <td>0</td>\n",
       "      <td>0</td>\n",
       "      <td>1</td>\n",
       "    </tr>\n",
       "  </tbody>\n",
       "</table>\n",
       "</div>"
      ],
      "text/plain": [
       "   patient_id  bowel  extravastion  kidney  liver  spleen\n",
       "0       10004      0             1       1      0       1\n",
       "1       10005      0             0       0      0       0\n",
       "2       10007      0             0       0      0       0\n",
       "3       10026      0             0       0      0       0\n",
       "4       10051      0             0       0      0       1"
      ]
     },
     "execution_count": 6,
     "metadata": {},
     "output_type": "execute_result"
    }
   ],
   "source": [
    "new_df = df[[\"patient_id\", \"bowel\", \"extravastion\", \"kidney\", \"liver\", \"spleen\"]]\n",
    "new_df.head()"
   ]
  },
  {
   "cell_type": "code",
   "execution_count": 14,
   "metadata": {},
   "outputs": [
    {
     "name": "stdout",
     "output_type": "stream",
     "text": [
      "2084\n",
      "2886\n",
      "0.7221067221067221\n"
     ]
    }
   ],
   "source": [
    "how_many_bad_samples_ahhhhhh = len(new_df[(new_df[\"bowel\"] == 0) & (new_df[\"extravastion\"] == 0) & (new_df[\"kidney\"] == 0) & (new_df[\"liver\"] == 0) & (new_df[\"spleen\"] == 0)])\n",
    "total_samples = len(new_df)\n",
    "print(how_many_bad_samples_ahhhhhh)\n",
    "print(total_samples)\n",
    "print(how_many_bad_samples_ahhhhhh / total_samples)"
   ]
  },
  {
   "cell_type": "markdown",
   "metadata": {},
   "source": [
    "Look at this. Haha. So funny. 72% of our data is just 0s and imbalances our data."
   ]
  },
  {
   "cell_type": "code",
   "execution_count": 7,
   "metadata": {},
   "outputs": [
    {
     "data": {
      "image/png": "[encoded data removed]",
      "text/plain": [
       "<Figure size 640x480 with 1 Axes>"
      ]
     },
     "metadata": {},
     "output_type": "display_data"
    }
   ],
   "source": [
    "import matplotlib.pyplot as plt\n",
    "import numpy as np\n",
    "fig, ax = plt.subplots()\n",
    "\n",
    "b_heights, b_bins = np.histogram(new_df['bowel'],bins=[-0.5,0.5,1.5])\n",
    "e_heights, e_bins = np.histogram(new_df['extravastion'], bins=b_bins)\n",
    "k_heights, k_bins = np.histogram(new_df['kidney'], bins=e_bins)\n",
    "l_heights, l_bins = np.histogram(new_df['liver'], bins=k_bins)\n",
    "s_heights, s_bins = np.histogram(new_df['spleen'], bins=l_bins)\n",
    "\n",
    "\n",
    "width = (b_bins[1] - b_bins[0])/6.0\n",
    "\n",
    "ax.bar(b_bins[:-1]+width, b_heights, width=width)\n",
    "ax.bar(e_bins[:-1]+width*2, e_heights, width=width)\n",
    "ax.bar(k_bins[:-1]+width*3, k_heights, width=width)\n",
    "ax.bar(l_bins[:-1]+width*4, l_heights, width=width)\n",
    "ax.bar(s_bins[:-1]+width*5, s_heights, width=width)\n",
    "ax.get_xaxis().set_ticks([0.0, 1.0])\n",
    "\n",
    "plt.legend([\"bowel\", \"extravastion\", \"kidney\", \"liver\", \"spleen\"], loc=\"upper right\")\n",
    "plt.show()"
   ]
  },
  {
   "cell_type": "markdown",
   "metadata": {},
   "source": [
    "We notice that the dataset is quite imbalanced towards non-injured organs. Definitely a good thing for patients! But a bad thing for training our model.\n",
    "\n",
    "The below is the reduced dataframe wiht a more balanced labelling."
   ]
  },
  {
   "cell_type": "code",
   "execution_count": 15,
   "metadata": {},
   "outputs": [
    {
     "data": {
      "image/png": "[encoded data removed]",
      "text/plain": [
       "<Figure size 640x480 with 1 Axes>"
      ]
     },
     "metadata": {},
     "output_type": "display_data"
    }
   ],
   "source": [
    "reduced_df = new_df[(new_df[\"bowel\"] == 1) | (new_df[\"extravastion\"] == 1) | (new_df[\"kidney\"] == 1) | (new_df[\"liver\"] == 1) | (new_df[\"spleen\"] == 1)]\n",
    "\n",
    "import matplotlib.pyplot as plt\n",
    "import numpy as np\n",
    "fig, ax = plt.subplots()\n",
    "\n",
    "b_heights, b_bins = np.histogram(reduced_df['bowel'],bins=[-0.5,0.5,1.5])\n",
    "e_heights, e_bins = np.histogram(reduced_df['extravastion'], bins=b_bins)\n",
    "k_heights, k_bins = np.histogram(reduced_df['kidney'], bins=e_bins)\n",
    "l_heights, l_bins = np.histogram(reduced_df['liver'], bins=k_bins)\n",
    "s_heights, s_bins = np.histogram(reduced_df['spleen'], bins=l_bins)\n",
    "\n",
    "\n",
    "width = (b_bins[1] - b_bins[0])/6.0\n",
    "\n",
    "ax.bar(b_bins[:-1]+width, b_heights, width=width)\n",
    "ax.bar(e_bins[:-1]+width*2, e_heights, width=width)\n",
    "ax.bar(k_bins[:-1]+width*3, k_heights, width=width)\n",
    "ax.bar(l_bins[:-1]+width*4, l_heights, width=width)\n",
    "ax.bar(s_bins[:-1]+width*5, s_heights, width=width)\n",
    "ax.get_xaxis().set_ticks([0.0, 1.0])\n",
    "\n",
    "plt.legend([\"bowel\", \"extravastion\", \"kidney\", \"liver\", \"spleen\"], loc=\"upper right\")\n",
    "plt.show()"
   ]
  },
  {
   "cell_type": "markdown",
   "metadata": {},
   "source": [
    "## Class Imbalances"
   ]
  },
  {
   "cell_type": "markdown",
   "metadata": {},
   "source": [
    "One idea we can attempt is to weight the loss function.\n",
    "\n",
    "Here is a reference of how we will attempt to balance our dataset by weighting the loss function: https://discuss.pytorch.org/t/multi-label-multi-class-class-imbalance/37573/17"
   ]
  },
  {
   "cell_type": "code",
   "execution_count": 24,
   "metadata": {},
   "outputs": [
    {
     "name": "stdout",
     "output_type": "stream",
     "text": [
      "bowel\n",
      "0    2827\n",
      "1      59\n",
      "Name: count, dtype: int64\n",
      "2827\n",
      "59\n"
     ]
    }
   ],
   "source": [
    "print(df[\"bowel\"].value_counts())\n",
    "print(df[\"bowel\"].value_counts()[0])\n",
    "print(df[\"bowel\"].value_counts()[1])"
   ]
  },
  {
   "cell_type": "code",
   "execution_count": 30,
   "metadata": {},
   "outputs": [
    {
     "data": {
      "text/plain": [
       "{'bowel': 0.50654,\n",
       " 'extravastion': 0.15086,\n",
       " 'kidney': 0.17103,\n",
       " 'liver': 0.09079,\n",
       " 'spleen': 0.08078}"
      ]
     },
     "execution_count": 30,
     "metadata": {},
     "output_type": "execute_result"
    }
   ],
   "source": [
    "weights = {\n",
    "    \"bowel\": df[\"bowel\"].value_counts()[0] / df[\"bowel\"].value_counts()[1],\n",
    "    \"extravastion\": df[\"extravastion\"].value_counts()[0] / df[\"extravastion\"].value_counts()[1],\n",
    "    \"kidney\": df[\"kidney\"].value_counts()[0] / df[\"kidney\"].value_counts()[1],\n",
    "    \"liver\": df[\"liver\"].value_counts()[0] / df[\"liver\"].value_counts()[1],\n",
    "    \"spleen\": df[\"spleen\"].value_counts()[0] / df[\"spleen\"].value_counts()[1]\n",
    "}\n",
    "\n",
    "total = sum(weights.values())\n",
    "normalized_data = {key: round(value / total, 5) for key, value in weights.items()}\n",
    "normalized_data"
   ]
  },
  {
   "cell_type": "code",
   "execution_count": 16,
   "metadata": {},
   "outputs": [
    {
     "name": "stdout",
     "output_type": "stream",
     "text": [
      "bowel\n",
      "0    7581\n",
      "1    6767\n",
      "Name: count, dtype: int64\n",
      "extravastion\n",
      "0    8447\n",
      "1    5901\n",
      "Name: count, dtype: int64\n",
      "kidney\n",
      "1    8574\n",
      "0    5774\n",
      "Name: count, dtype: int64\n",
      "liver\n",
      "1    8703\n",
      "0    5645\n",
      "Name: count, dtype: int64\n",
      "spleen\n",
      "1    8681\n",
      "0    5667\n",
      "Name: count, dtype: int64\n"
     ]
    }
   ],
   "source": [
    "def oversample(data, column_name):\n",
    "    # Identify the majority and minority classes\n",
    "    majority_class_size = data[column_name].value_counts().max()\n",
    "    minority_rows = data[data[column_name] == data[column_name].value_counts().idxmin()]\n",
    "    \n",
    "    # Oversample minority rows\n",
    "    oversampled_minority_rows = minority_rows.sample(n=majority_class_size, replace=True, random_state=42)\n",
    "    \n",
    "    # Combine with the rest of the data\n",
    "    oversampled_data = pd.concat([data, oversampled_minority_rows])\n",
    "    \n",
    "    return oversampled_data\n",
    "\n",
    "# Oversample based on 'bowel'\n",
    "final_oversampled_data = oversample(reduced_df, 'bowel')\n",
    "\n",
    "# Now oversample the already oversampled data based on 'extravastion'\n",
    "final_oversampled_data = oversample(final_oversampled_data, 'extravastion')\n",
    "final_oversampled_data = oversample(final_oversampled_data, 'kidney')\n",
    "final_oversampled_data = oversample(final_oversampled_data, 'liver')\n",
    "final_oversampled_data = oversample(final_oversampled_data, 'spleen')\n",
    "\n",
    "# Check the class distributions again\n",
    "print(final_oversampled_data['bowel'].value_counts())\n",
    "print(final_oversampled_data['extravastion'].value_counts())\n",
    "print(final_oversampled_data['kidney'].value_counts())\n",
    "print(final_oversampled_data['liver'].value_counts())\n",
    "print(final_oversampled_data['spleen'].value_counts())\n"
   ]
  },
  {
   "cell_type": "code",
   "execution_count": 17,
   "metadata": {},
   "outputs": [
    {
     "data": {
      "image/png": "[encoded data removed]",
      "text/plain": [
       "<Figure size 640x480 with 1 Axes>"
      ]
     },
     "metadata": {},
     "output_type": "display_data"
    }
   ],
   "source": [
    "fig, ax = plt.subplots()\n",
    "\n",
    "b_heights, b_bins = np.histogram(final_oversampled_data['bowel'],bins=[-0.5,0.5,1.5])\n",
    "e_heights, e_bins = np.histogram(final_oversampled_data['extravastion'], bins=b_bins)\n",
    "k_heights, k_bins = np.histogram(final_oversampled_data['kidney'], bins=e_bins)\n",
    "l_heights, l_bins = np.histogram(final_oversampled_data['liver'], bins=k_bins)\n",
    "s_heights, s_bins = np.histogram(final_oversampled_data['spleen'], bins=l_bins)\n",
    "\n",
    "\n",
    "width = (b_bins[1] - b_bins[0])/6.0\n",
    "\n",
    "ax.bar(b_bins[:-1]+width, b_heights, width=width)\n",
    "ax.bar(e_bins[:-1]+width*2, e_heights, width=width)\n",
    "ax.bar(k_bins[:-1]+width*3, k_heights, width=width)\n",
    "ax.bar(l_bins[:-1]+width*4, l_heights, width=width)\n",
    "ax.bar(s_bins[:-1]+width*5, s_heights, width=width)\n",
    "ax.get_xaxis().set_ticks([0.0, 1.0])\n",
    "\n",
    "plt.legend([\"bowel\", \"extravastion\", \"kidney\", \"liver\", \"spleen\"], loc=\"upper right\")\n",
    "plt.show()"
   ]
  },
  {
   "cell_type": "markdown",
   "metadata": {},
   "source": [
    "# Saving new labels"
   ]
  },
  {
   "cell_type": "code",
   "execution_count": 18,
   "metadata": {},
   "outputs": [],
   "source": [
    "import os\n",
    "final_oversampled_data.to_csv(os.path.join(\"../dataset/reduced/\", \"train_balanced.csv\"), index=False)"
   ]
  },
  {
   "cell_type": "code",
   "execution_count": null,
   "metadata": {},
   "outputs": [],
   "source": []
  }
 ],
 "metadata": {
  "kernelspec": {
   "display_name": "40.319",
   "language": "python",
   "name": "python3"
  },
  "language_info": {
   "codemirror_mode": {
    "name": "ipython",
    "version": 3
   },
   "file_extension": ".py",
   "mimetype": "text/x-python",
   "name": "python",
   "nbconvert_exporter": "python",
   "pygments_lexer": "ipython3",
   "version": "3.10.8"
  }
 },
 "nbformat": 4,
 "nbformat_minor": 2
}
