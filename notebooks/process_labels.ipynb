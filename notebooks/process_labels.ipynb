{
 "cells": [
  {
   "cell_type": "code",
   "execution_count": 16,
   "metadata": {},
   "outputs": [
    {
     "data": {
      "text/html": [
       "<div>\n",
       "<style scoped>\n",
       "    .dataframe tbody tr th:only-of-type {\n",
       "        vertical-align: middle;\n",
       "    }\n",
       "\n",
       "    .dataframe tbody tr th {\n",
       "        vertical-align: top;\n",
       "    }\n",
       "\n",
       "    .dataframe thead th {\n",
       "        text-align: right;\n",
       "    }\n",
       "</style>\n",
       "<table border=\"1\" class=\"dataframe\">\n",
       "  <thead>\n",
       "    <tr style=\"text-align: right;\">\n",
       "      <th></th>\n",
       "      <th>Unnamed: 0</th>\n",
       "      <th>patient_id</th>\n",
       "      <th>bowel_healthy</th>\n",
       "      <th>bowel_injury</th>\n",
       "      <th>extravasation_healthy</th>\n",
       "      <th>extravasation_injury</th>\n",
       "      <th>kidney_healthy</th>\n",
       "      <th>kidney_low</th>\n",
       "      <th>kidney_high</th>\n",
       "      <th>liver_healthy</th>\n",
       "      <th>liver_low</th>\n",
       "      <th>liver_high</th>\n",
       "      <th>spleen_healthy</th>\n",
       "      <th>spleen_low</th>\n",
       "      <th>spleen_high</th>\n",
       "      <th>any_injury</th>\n",
       "    </tr>\n",
       "  </thead>\n",
       "  <tbody>\n",
       "    <tr>\n",
       "      <th>0</th>\n",
       "      <td>0</td>\n",
       "      <td>10004</td>\n",
       "      <td>1</td>\n",
       "      <td>0</td>\n",
       "      <td>0</td>\n",
       "      <td>1</td>\n",
       "      <td>0</td>\n",
       "      <td>1</td>\n",
       "      <td>0</td>\n",
       "      <td>1</td>\n",
       "      <td>0</td>\n",
       "      <td>0</td>\n",
       "      <td>0</td>\n",
       "      <td>0</td>\n",
       "      <td>1</td>\n",
       "      <td>1</td>\n",
       "    </tr>\n",
       "    <tr>\n",
       "      <th>1</th>\n",
       "      <td>1</td>\n",
       "      <td>10005</td>\n",
       "      <td>1</td>\n",
       "      <td>0</td>\n",
       "      <td>1</td>\n",
       "      <td>0</td>\n",
       "      <td>1</td>\n",
       "      <td>0</td>\n",
       "      <td>0</td>\n",
       "      <td>1</td>\n",
       "      <td>0</td>\n",
       "      <td>0</td>\n",
       "      <td>1</td>\n",
       "      <td>0</td>\n",
       "      <td>0</td>\n",
       "      <td>0</td>\n",
       "    </tr>\n",
       "    <tr>\n",
       "      <th>2</th>\n",
       "      <td>2</td>\n",
       "      <td>10007</td>\n",
       "      <td>1</td>\n",
       "      <td>0</td>\n",
       "      <td>1</td>\n",
       "      <td>0</td>\n",
       "      <td>1</td>\n",
       "      <td>0</td>\n",
       "      <td>0</td>\n",
       "      <td>1</td>\n",
       "      <td>0</td>\n",
       "      <td>0</td>\n",
       "      <td>1</td>\n",
       "      <td>0</td>\n",
       "      <td>0</td>\n",
       "      <td>0</td>\n",
       "    </tr>\n",
       "  </tbody>\n",
       "</table>\n",
       "</div>"
      ],
      "text/plain": [
       "   Unnamed: 0  patient_id  bowel_healthy  bowel_injury  extravasation_healthy  \\\n",
       "0           0       10004              1             0                      0   \n",
       "1           1       10005              1             0                      1   \n",
       "2           2       10007              1             0                      1   \n",
       "\n",
       "   extravasation_injury  kidney_healthy  kidney_low  kidney_high  \\\n",
       "0                     1               0           1            0   \n",
       "1                     0               1           0            0   \n",
       "2                     0               1           0            0   \n",
       "\n",
       "   liver_healthy  liver_low  liver_high  spleen_healthy  spleen_low  \\\n",
       "0              1          0           0               0           0   \n",
       "1              1          0           0               1           0   \n",
       "2              1          0           0               1           0   \n",
       "\n",
       "   spleen_high  any_injury  \n",
       "0            1           1  \n",
       "1            0           0  \n",
       "2            0           0  "
      ]
     },
     "execution_count": 16,
     "metadata": {},
     "output_type": "execute_result"
    }
   ],
   "source": [
    "import pandas as pd\n",
    "\n",
    "labels_path = \"../dataset/reduced/unprocessed_train_reduced.csv\"\n",
    "df = pd.read_csv(labels_path)\n",
    "df.head(3)"
   ]
  },
  {
   "cell_type": "code",
   "execution_count": 17,
   "metadata": {},
   "outputs": [
    {
     "data": {
      "text/plain": [
       "(2886, 16)"
      ]
     },
     "execution_count": 17,
     "metadata": {},
     "output_type": "execute_result"
    }
   ],
   "source": [
    "df.shape"
   ]
  },
  {
   "cell_type": "markdown",
   "metadata": {},
   "source": [
    "# Some (not even exploratory) data analysis"
   ]
  },
  {
   "cell_type": "markdown",
   "metadata": {},
   "source": [
    "Let us analysis the columns to ensure that they are the values we expect. We want to ensure that:\n",
    "1. For any `healthy` and `injury` column only one or the other occurs (e.g. cannot be both `healthy=1` and `injury=1`)\n",
    "2. We want to ensure `_low` and `_high` also sum to one"
   ]
  },
  {
   "cell_type": "code",
   "execution_count": 18,
   "metadata": {},
   "outputs": [],
   "source": [
    "checks = [\n",
    "    df[(df[\"bowel_healthy\"] == 1) & (df[\"bowel_injury\"] == 1)],\n",
    "    df[(df[\"bowel_healthy\"] == 0) & (df[\"bowel_injury\"] == 0)],\n",
    "    df[(df[\"extravasation_healthy\"] == 1) & (df[\"extravasation_injury\"] == 1)],\n",
    "    df[(df[\"extravasation_healthy\"] == 0) & (df[\"extravasation_injury\"] == 0)],\n",
    "    df[(df[\"kidney_low\"] == 1) & (df[\"kidney_high\"] == 1)],\n",
    "    df[(df[\"liver_low\"] == 1) & (df[\"liver_high\"] == 1)],\n",
    "    df[(df[\"spleen_low\"] == 1) & (df[\"spleen_high\"] == 1)],\n",
    "    df[(df[\"kidney_healthy\"] == 0) & (df[\"kidney_low\"] == 0) & (df[\"kidney_high\"] == 0)],\n",
    "    df[(df[\"liver_healthy\"] == 0) & (df[\"liver_low\"] == 1) & (df[\"liver_high\"] == 1)],\n",
    "    df[(df[\"spleen_healthy\"] == 0) & (df[\"spleen_low\"] == 1) & (df[\"spleen_high\"] == 1)],\n",
    "]\n",
    "\n",
    "for check in checks:\n",
    "    assert len(check) == 0"
   ]
  },
  {
   "cell_type": "code",
   "execution_count": 19,
   "metadata": {},
   "outputs": [],
   "source": [
    "df[\"bowel\"] = (df[\"bowel_injury\"] == 1).astype(int) # bowel is either injured or not\n",
    "df[\"extravastion\"] = (df[\"extravasation_injury\"] == 1).astype(int)\n",
    "df[\"kidney\"] = (df[\"kidney_healthy\"] == 0).astype(int)\n",
    "df[\"liver\"] = (df[\"liver_healthy\"] == 0).astype(int)\n",
    "df[\"spleen\"] = (df[\"spleen_healthy\"] == 0).astype(int)"
   ]
  },
  {
   "cell_type": "code",
   "execution_count": 20,
   "metadata": {},
   "outputs": [
    {
     "name": "stdout",
     "output_type": "stream",
     "text": [
      "bowel\n",
      "0    2827\n",
      "1      59\n",
      "Name: count, dtype: int64\n",
      "extravastion\n",
      "0    2697\n",
      "1     189\n",
      "Name: count, dtype: int64\n",
      "kidney\n",
      "0    2718\n",
      "1     168\n",
      "Name: count, dtype: int64\n",
      "liver\n",
      "0    2585\n",
      "1     301\n",
      "Name: count, dtype: int64\n",
      "spleen\n",
      "0    2552\n",
      "1     334\n",
      "Name: count, dtype: int64\n"
     ]
    }
   ],
   "source": [
    "print(df[\"bowel\"].value_counts())\n",
    "print(df[\"extravastion\"].value_counts())\n",
    "print(df[\"kidney\"].value_counts())\n",
    "print(df[\"liver\"].value_counts())\n",
    "print(df[\"spleen\"].value_counts())"
   ]
  },
  {
   "cell_type": "code",
   "execution_count": 21,
   "metadata": {},
   "outputs": [
    {
     "data": {
      "text/html": [
       "<div>\n",
       "<style scoped>\n",
       "    .dataframe tbody tr th:only-of-type {\n",
       "        vertical-align: middle;\n",
       "    }\n",
       "\n",
       "    .dataframe tbody tr th {\n",
       "        vertical-align: top;\n",
       "    }\n",
       "\n",
       "    .dataframe thead th {\n",
       "        text-align: right;\n",
       "    }\n",
       "</style>\n",
       "<table border=\"1\" class=\"dataframe\">\n",
       "  <thead>\n",
       "    <tr style=\"text-align: right;\">\n",
       "      <th></th>\n",
       "      <th>patient_id</th>\n",
       "      <th>bowel</th>\n",
       "      <th>extravastion</th>\n",
       "      <th>kidney</th>\n",
       "      <th>liver</th>\n",
       "      <th>spleen</th>\n",
       "    </tr>\n",
       "  </thead>\n",
       "  <tbody>\n",
       "    <tr>\n",
       "      <th>0</th>\n",
       "      <td>10004</td>\n",
       "      <td>0</td>\n",
       "      <td>1</td>\n",
       "      <td>1</td>\n",
       "      <td>0</td>\n",
       "      <td>1</td>\n",
       "    </tr>\n",
       "    <tr>\n",
       "      <th>1</th>\n",
       "      <td>10005</td>\n",
       "      <td>0</td>\n",
       "      <td>0</td>\n",
       "      <td>0</td>\n",
       "      <td>0</td>\n",
       "      <td>0</td>\n",
       "    </tr>\n",
       "    <tr>\n",
       "      <th>2</th>\n",
       "      <td>10007</td>\n",
       "      <td>0</td>\n",
       "      <td>0</td>\n",
       "      <td>0</td>\n",
       "      <td>0</td>\n",
       "      <td>0</td>\n",
       "    </tr>\n",
       "    <tr>\n",
       "      <th>3</th>\n",
       "      <td>10026</td>\n",
       "      <td>0</td>\n",
       "      <td>0</td>\n",
       "      <td>0</td>\n",
       "      <td>0</td>\n",
       "      <td>0</td>\n",
       "    </tr>\n",
       "    <tr>\n",
       "      <th>4</th>\n",
       "      <td>10051</td>\n",
       "      <td>0</td>\n",
       "      <td>0</td>\n",
       "      <td>0</td>\n",
       "      <td>0</td>\n",
       "      <td>1</td>\n",
       "    </tr>\n",
       "  </tbody>\n",
       "</table>\n",
       "</div>"
      ],
      "text/plain": [
       "   patient_id  bowel  extravastion  kidney  liver  spleen\n",
       "0       10004      0             1       1      0       1\n",
       "1       10005      0             0       0      0       0\n",
       "2       10007      0             0       0      0       0\n",
       "3       10026      0             0       0      0       0\n",
       "4       10051      0             0       0      0       1"
      ]
     },
     "execution_count": 21,
     "metadata": {},
     "output_type": "execute_result"
    }
   ],
   "source": [
    "new_df = df[[\"patient_id\", \"bowel\", \"extravastion\", \"kidney\", \"liver\", \"spleen\"]]\n",
    "new_df.head()"
   ]
  },
  {
   "cell_type": "code",
   "execution_count": 24,
   "metadata": {},
   "outputs": [
    {
     "ename": "ValueError",
     "evalue": "'top right' is not a valid value for loc; supported values are 'best', 'upper right', 'upper left', 'lower left', 'lower right', 'right', 'center left', 'center right', 'lower center', 'upper center', 'center'",
     "output_type": "error",
     "traceback": [
      "\u001b[0;31m---------------------------------------------------------------------------\u001b[0m",
      "\u001b[0;31mValueError\u001b[0m                                Traceback (most recent call last)",
      "Cell \u001b[0;32mIn[24], line 20\u001b[0m\n\u001b[1;32m     17\u001b[0m ax\u001b[38;5;241m.\u001b[39mbar(l_bins[:\u001b[38;5;241m-\u001b[39m\u001b[38;5;241m1\u001b[39m]\u001b[38;5;241m+\u001b[39mwidth\u001b[38;5;241m*\u001b[39m\u001b[38;5;241m4\u001b[39m, l_heights, width\u001b[38;5;241m=\u001b[39mwidth, facecolor\u001b[38;5;241m=\u001b[39m\u001b[38;5;124m'\u001b[39m\u001b[38;5;124myellow\u001b[39m\u001b[38;5;124m'\u001b[39m)\n\u001b[1;32m     18\u001b[0m ax\u001b[38;5;241m.\u001b[39mbar(s_bins[:\u001b[38;5;241m-\u001b[39m\u001b[38;5;241m1\u001b[39m]\u001b[38;5;241m+\u001b[39mwidth\u001b[38;5;241m*\u001b[39m\u001b[38;5;241m5\u001b[39m, s_heights, width\u001b[38;5;241m=\u001b[39mwidth, facecolor\u001b[38;5;241m=\u001b[39m\u001b[38;5;124m'\u001b[39m\u001b[38;5;124morange\u001b[39m\u001b[38;5;124m'\u001b[39m)\n\u001b[0;32m---> 20\u001b[0m \u001b[43mplt\u001b[49m\u001b[38;5;241;43m.\u001b[39;49m\u001b[43mlegend\u001b[49m\u001b[43m(\u001b[49m\u001b[43m[\u001b[49m\u001b[38;5;124;43m\"\u001b[39;49m\u001b[38;5;124;43mbowel\u001b[39;49m\u001b[38;5;124;43m\"\u001b[39;49m\u001b[43m,\u001b[49m\u001b[43m \u001b[49m\u001b[38;5;124;43m\"\u001b[39;49m\u001b[38;5;124;43mextravastion\u001b[39;49m\u001b[38;5;124;43m\"\u001b[39;49m\u001b[43m,\u001b[49m\u001b[43m \u001b[49m\u001b[38;5;124;43m\"\u001b[39;49m\u001b[38;5;124;43mkidney\u001b[39;49m\u001b[38;5;124;43m\"\u001b[39;49m\u001b[43m,\u001b[49m\u001b[43m \u001b[49m\u001b[38;5;124;43m\"\u001b[39;49m\u001b[38;5;124;43mliver\u001b[39;49m\u001b[38;5;124;43m\"\u001b[39;49m\u001b[43m,\u001b[49m\u001b[43m \u001b[49m\u001b[38;5;124;43m\"\u001b[39;49m\u001b[38;5;124;43mspleen\u001b[39;49m\u001b[38;5;124;43m\"\u001b[39;49m\u001b[43m]\u001b[49m\u001b[43m,\u001b[49m\u001b[43m \u001b[49m\u001b[43mloc\u001b[49m\u001b[38;5;241;43m=\u001b[39;49m\u001b[38;5;124;43m\"\u001b[39;49m\u001b[38;5;124;43mtop right\u001b[39;49m\u001b[38;5;124;43m\"\u001b[39;49m\u001b[43m)\u001b[49m\n\u001b[1;32m     21\u001b[0m plt\u001b[38;5;241m.\u001b[39mshow()\n",
      "File \u001b[0;32m~/miniconda3/envs/40.319/lib/python3.10/site-packages/matplotlib/pyplot.py:3372\u001b[0m, in \u001b[0;36mlegend\u001b[0;34m(*args, **kwargs)\u001b[0m\n\u001b[1;32m   3370\u001b[0m \u001b[38;5;129m@_copy_docstring_and_deprecators\u001b[39m(Axes\u001b[38;5;241m.\u001b[39mlegend)\n\u001b[1;32m   3371\u001b[0m \u001b[38;5;28;01mdef\u001b[39;00m \u001b[38;5;21mlegend\u001b[39m(\u001b[38;5;241m*\u001b[39margs, \u001b[38;5;241m*\u001b[39m\u001b[38;5;241m*\u001b[39mkwargs) \u001b[38;5;241m-\u001b[39m\u001b[38;5;241m>\u001b[39m Legend:\n\u001b[0;32m-> 3372\u001b[0m     \u001b[38;5;28;01mreturn\u001b[39;00m \u001b[43mgca\u001b[49m\u001b[43m(\u001b[49m\u001b[43m)\u001b[49m\u001b[38;5;241;43m.\u001b[39;49m\u001b[43mlegend\u001b[49m\u001b[43m(\u001b[49m\u001b[38;5;241;43m*\u001b[39;49m\u001b[43margs\u001b[49m\u001b[43m,\u001b[49m\u001b[43m \u001b[49m\u001b[38;5;241;43m*\u001b[39;49m\u001b[38;5;241;43m*\u001b[39;49m\u001b[43mkwargs\u001b[49m\u001b[43m)\u001b[49m\n",
      "File \u001b[0;32m~/miniconda3/envs/40.319/lib/python3.10/site-packages/matplotlib/axes/_axes.py:323\u001b[0m, in \u001b[0;36mAxes.legend\u001b[0;34m(self, *args, **kwargs)\u001b[0m\n\u001b[1;32m    206\u001b[0m \u001b[38;5;250m\u001b[39m\u001b[38;5;124;03m\"\"\"\u001b[39;00m\n\u001b[1;32m    207\u001b[0m \u001b[38;5;124;03mPlace a legend on the Axes.\u001b[39;00m\n\u001b[1;32m    208\u001b[0m \n\u001b[0;32m   (...)\u001b[0m\n\u001b[1;32m    320\u001b[0m \u001b[38;5;124;03m.. plot:: gallery/text_labels_and_annotations/legend.py\u001b[39;00m\n\u001b[1;32m    321\u001b[0m \u001b[38;5;124;03m\"\"\"\u001b[39;00m\n\u001b[1;32m    322\u001b[0m handles, labels, kwargs \u001b[38;5;241m=\u001b[39m mlegend\u001b[38;5;241m.\u001b[39m_parse_legend_args([\u001b[38;5;28mself\u001b[39m], \u001b[38;5;241m*\u001b[39margs, \u001b[38;5;241m*\u001b[39m\u001b[38;5;241m*\u001b[39mkwargs)\n\u001b[0;32m--> 323\u001b[0m \u001b[38;5;28mself\u001b[39m\u001b[38;5;241m.\u001b[39mlegend_ \u001b[38;5;241m=\u001b[39m \u001b[43mmlegend\u001b[49m\u001b[38;5;241;43m.\u001b[39;49m\u001b[43mLegend\u001b[49m\u001b[43m(\u001b[49m\u001b[38;5;28;43mself\u001b[39;49m\u001b[43m,\u001b[49m\u001b[43m \u001b[49m\u001b[43mhandles\u001b[49m\u001b[43m,\u001b[49m\u001b[43m \u001b[49m\u001b[43mlabels\u001b[49m\u001b[43m,\u001b[49m\u001b[43m \u001b[49m\u001b[38;5;241;43m*\u001b[39;49m\u001b[38;5;241;43m*\u001b[39;49m\u001b[43mkwargs\u001b[49m\u001b[43m)\u001b[49m\n\u001b[1;32m    324\u001b[0m \u001b[38;5;28mself\u001b[39m\u001b[38;5;241m.\u001b[39mlegend_\u001b[38;5;241m.\u001b[39m_remove_method \u001b[38;5;241m=\u001b[39m \u001b[38;5;28mself\u001b[39m\u001b[38;5;241m.\u001b[39m_remove_legend\n\u001b[1;32m    325\u001b[0m \u001b[38;5;28;01mreturn\u001b[39;00m \u001b[38;5;28mself\u001b[39m\u001b[38;5;241m.\u001b[39mlegend_\n",
      "File \u001b[0;32m~/miniconda3/envs/40.319/lib/python3.10/site-packages/matplotlib/legend.py:566\u001b[0m, in \u001b[0;36mLegend.__init__\u001b[0;34m(self, parent, handles, labels, loc, numpoints, markerscale, markerfirst, reverse, scatterpoints, scatteryoffsets, prop, fontsize, labelcolor, borderpad, labelspacing, handlelength, handleheight, handletextpad, borderaxespad, columnspacing, ncols, mode, fancybox, shadow, title, title_fontsize, framealpha, edgecolor, facecolor, bbox_to_anchor, bbox_transform, frameon, handler_map, title_fontproperties, alignment, ncol, draggable)\u001b[0m\n\u001b[1;32m    563\u001b[0m \u001b[38;5;28mself\u001b[39m\u001b[38;5;241m.\u001b[39m_init_legend_box(handles, labels, markerfirst)\n\u001b[1;32m    565\u001b[0m \u001b[38;5;66;03m# Set legend location\u001b[39;00m\n\u001b[0;32m--> 566\u001b[0m \u001b[38;5;28;43mself\u001b[39;49m\u001b[38;5;241;43m.\u001b[39;49m\u001b[43mset_loc\u001b[49m\u001b[43m(\u001b[49m\u001b[43mloc\u001b[49m\u001b[43m)\u001b[49m\n\u001b[1;32m    568\u001b[0m \u001b[38;5;66;03m# figure out title font properties:\u001b[39;00m\n\u001b[1;32m    569\u001b[0m \u001b[38;5;28;01mif\u001b[39;00m title_fontsize \u001b[38;5;129;01mis\u001b[39;00m \u001b[38;5;129;01mnot\u001b[39;00m \u001b[38;5;28;01mNone\u001b[39;00m \u001b[38;5;129;01mand\u001b[39;00m title_fontproperties \u001b[38;5;129;01mis\u001b[39;00m \u001b[38;5;129;01mnot\u001b[39;00m \u001b[38;5;28;01mNone\u001b[39;00m:\n",
      "File \u001b[0;32m~/miniconda3/envs/40.319/lib/python3.10/site-packages/matplotlib/legend.py:687\u001b[0m, in \u001b[0;36mLegend.set_loc\u001b[0;34m(self, loc)\u001b[0m\n\u001b[1;32m    685\u001b[0m             loc \u001b[38;5;241m=\u001b[39m locs[\u001b[38;5;241m0\u001b[39m] \u001b[38;5;241m+\u001b[39m \u001b[38;5;124m'\u001b[39m\u001b[38;5;124m \u001b[39m\u001b[38;5;124m'\u001b[39m \u001b[38;5;241m+\u001b[39m locs[\u001b[38;5;241m1\u001b[39m]\n\u001b[1;32m    686\u001b[0m     \u001b[38;5;66;03m# check that loc is in acceptable strings\u001b[39;00m\n\u001b[0;32m--> 687\u001b[0m     loc \u001b[38;5;241m=\u001b[39m \u001b[43m_api\u001b[49m\u001b[38;5;241;43m.\u001b[39;49m\u001b[43mcheck_getitem\u001b[49m\u001b[43m(\u001b[49m\u001b[38;5;28;43mself\u001b[39;49m\u001b[38;5;241;43m.\u001b[39;49m\u001b[43mcodes\u001b[49m\u001b[43m,\u001b[49m\u001b[43m \u001b[49m\u001b[43mloc\u001b[49m\u001b[38;5;241;43m=\u001b[39;49m\u001b[43mloc\u001b[49m\u001b[43m)\u001b[49m\n\u001b[1;32m    688\u001b[0m \u001b[38;5;28;01melif\u001b[39;00m np\u001b[38;5;241m.\u001b[39miterable(loc):\n\u001b[1;32m    689\u001b[0m     \u001b[38;5;66;03m# coerce iterable into tuple\u001b[39;00m\n\u001b[1;32m    690\u001b[0m     loc \u001b[38;5;241m=\u001b[39m \u001b[38;5;28mtuple\u001b[39m(loc)\n",
      "File \u001b[0;32m~/miniconda3/envs/40.319/lib/python3.10/site-packages/matplotlib/_api/__init__.py:183\u001b[0m, in \u001b[0;36mcheck_getitem\u001b[0;34m(mapping, **kwargs)\u001b[0m\n\u001b[1;32m    181\u001b[0m     \u001b[38;5;28;01mreturn\u001b[39;00m mapping[v]\n\u001b[1;32m    182\u001b[0m \u001b[38;5;28;01mexcept\u001b[39;00m \u001b[38;5;167;01mKeyError\u001b[39;00m:\n\u001b[0;32m--> 183\u001b[0m     \u001b[38;5;28;01mraise\u001b[39;00m \u001b[38;5;167;01mValueError\u001b[39;00m(\n\u001b[1;32m    184\u001b[0m         \u001b[38;5;124mf\u001b[39m\u001b[38;5;124m\"\u001b[39m\u001b[38;5;132;01m{\u001b[39;00mv\u001b[38;5;132;01m!r}\u001b[39;00m\u001b[38;5;124m is not a valid value for \u001b[39m\u001b[38;5;132;01m{\u001b[39;00mk\u001b[38;5;132;01m}\u001b[39;00m\u001b[38;5;124m; supported values are \u001b[39m\u001b[38;5;124m\"\u001b[39m\n\u001b[1;32m    185\u001b[0m         \u001b[38;5;124mf\u001b[39m\u001b[38;5;124m\"\u001b[39m\u001b[38;5;132;01m{\u001b[39;00m\u001b[38;5;124m'\u001b[39m\u001b[38;5;124m, \u001b[39m\u001b[38;5;124m'\u001b[39m\u001b[38;5;241m.\u001b[39mjoin(\u001b[38;5;28mmap\u001b[39m(\u001b[38;5;28mrepr\u001b[39m,\u001b[38;5;250m \u001b[39mmapping))\u001b[38;5;132;01m}\u001b[39;00m\u001b[38;5;124m\"\u001b[39m) \u001b[38;5;28;01mfrom\u001b[39;00m \u001b[38;5;28;01mNone\u001b[39;00m\n",
      "\u001b[0;31mValueError\u001b[0m: 'top right' is not a valid value for loc; supported values are 'best', 'upper right', 'upper left', 'lower left', 'lower right', 'right', 'center left', 'center right', 'lower center', 'upper center', 'center'"
     ]
    },
    {
     "data": {
      "image/png": "[encoded data removed]",
      "text/plain": [
       "<Figure size 640x480 with 1 Axes>"
      ]
     },
     "metadata": {},
     "output_type": "display_data"
    }
   ],
   "source": [
    "import matplotlib.pyplot as plt\n",
    "import numpy as np\n",
    "fig, ax = plt.subplots()\n",
    "\n",
    "b_heights, b_bins = np.histogram(new_df['bowel'],bins=[-0.5,0.5,1.5])\n",
    "e_heights, e_bins = np.histogram(new_df['extravastion'], bins=b_bins)\n",
    "k_heights, k_bins = np.histogram(new_df['kidney'], bins=e_bins)\n",
    "l_heights, l_bins = np.histogram(new_df['liver'], bins=k_bins)\n",
    "s_heights, s_bins = np.histogram(new_df['spleen'], bins=l_bins)\n",
    "\n",
    "\n",
    "width = (b_bins[1] - b_bins[0])/6.0\n",
    "\n",
    "ax.bar(b_bins[:-1]+width, b_heights, width=width, facecolor='green')\n",
    "ax.bar(e_bins[:-1]+width*2, e_heights, width=width, facecolor='blue')\n",
    "ax.bar(k_bins[:-1]+width*3, k_heights, width=width, facecolor='red')\n",
    "ax.bar(l_bins[:-1]+width*4, l_heights, width=width, facecolor='yellow')\n",
    "ax.bar(s_bins[:-1]+width*5, s_heights, width=width, facecolor='orange')\n",
    "\n",
    "plt.legend([\"bowel\", \"extravastion\", \"kidney\", \"liver\", \"spleen\"], loc=\"upper right\")\n",
    "plt.show()"
   ]
  },
  {
   "cell_type": "markdown",
   "metadata": {},
   "source": [
    "We notice that the dataset is quite imbalanced towards non-injured organs. Definitely a good thing for patients! But a bad thing for training our model."
   ]
  },
  {
   "cell_type": "markdown",
   "metadata": {},
   "source": [
    "### Class Imbalances"
   ]
  },
  {
   "cell_type": "code",
   "execution_count": 43,
   "metadata": {},
   "outputs": [
    {
     "data": {
      "text/plain": [
       "2827"
      ]
     },
     "execution_count": 43,
     "metadata": {},
     "output_type": "execute_result"
    }
   ],
   "source": [
    "new_df['bowel'].value_counts().max()"
   ]
  },
  {
   "cell_type": "code",
   "execution_count": 49,
   "metadata": {},
   "outputs": [
    {
     "name": "stdout",
     "output_type": "stream",
     "text": [
      "bowel\n",
      "1    39222\n",
      "0    16516\n",
      "Name: count, dtype: int64\n",
      "extravastion\n",
      "0    34457\n",
      "1    21281\n",
      "Name: count, dtype: int64\n",
      "kidney\n",
      "1    35564\n",
      "0    20174\n",
      "Name: count, dtype: int64\n",
      "liver\n",
      "1    36267\n",
      "0    19471\n",
      "Name: count, dtype: int64\n",
      "spleen\n",
      "1    35376\n",
      "0    20362\n",
      "Name: count, dtype: int64\n"
     ]
    }
   ],
   "source": [
    "def oversample(data, column_name):\n",
    "    # Identify the majority and minority classes\n",
    "    majority_class_size = data[column_name].value_counts().max()\n",
    "    minority_rows = data[data[column_name] == data[column_name].value_counts().idxmin()]\n",
    "    \n",
    "    # Oversample minority rows\n",
    "    oversampled_minority_rows = minority_rows.sample(n=majority_class_size, replace=True, random_state=42)\n",
    "    \n",
    "    # Combine with the rest of the data\n",
    "    oversampled_data = pd.concat([data, oversampled_minority_rows])\n",
    "    \n",
    "    return oversampled_data\n",
    "\n",
    "# Oversample based on 'bowel'\n",
    "final_oversampled_data = oversample(new_df, 'bowel')\n",
    "\n",
    "# Now oversample the already oversampled data based on 'extravastion'\n",
    "final_oversampled_data = oversample(final_oversampled_data, 'extravastion')\n",
    "final_oversampled_data = oversample(final_oversampled_data, 'kidney')\n",
    "final_oversampled_data = oversample(final_oversampled_data, 'liver')\n",
    "final_oversampled_data = oversample(final_oversampled_data, 'spleen')\n",
    "\n",
    "# Check the class distributions again\n",
    "print(final_oversampled_data['bowel'].value_counts())\n",
    "print(final_oversampled_data['extravastion'].value_counts())\n",
    "print(final_oversampled_data['kidney'].value_counts())\n",
    "print(final_oversampled_data['liver'].value_counts())\n",
    "print(final_oversampled_data['spleen'].value_counts())\n",
    "\n",
    "\n",
    "\n",
    "# # Checking the new class distributions after simple oversampling\n",
    "# new_bowel_distribution_simple = data_oversampled_bowel['bowel'].value_counts()\n",
    "# new_extravastion_distribution_simple = data_oversampled_extravastion['extravastion'].value_counts()\n",
    "\n",
    "# new_bowel_distribution_simple, new_extravastion_distribution_simple\n",
    "\n"
   ]
  },
  {
   "cell_type": "code",
   "execution_count": 50,
   "metadata": {},
   "outputs": [
    {
     "data": {
      "text/plain": [
       "55738"
      ]
     },
     "execution_count": 50,
     "metadata": {},
     "output_type": "execute_result"
    }
   ],
   "source": [
    "len(final_oversampled_data)"
   ]
  },
  {
   "cell_type": "markdown",
   "metadata": {},
   "source": [
    "# Saving new labels"
   ]
  },
  {
   "cell_type": "code",
   "execution_count": 10,
   "metadata": {},
   "outputs": [],
   "source": [
    "import os\n",
    "new_df.to_csv(os.path.join(\"../dataset/reduced/\", \"train.csv\"), index=False)"
   ]
  },
  {
   "cell_type": "code",
   "execution_count": null,
   "metadata": {},
   "outputs": [],
   "source": []
  }
 ],
 "metadata": {
  "kernelspec": {
   "display_name": "40.319",
   "language": "python",
   "name": "python3"
  },
  "language_info": {
   "codemirror_mode": {
    "name": "ipython",
    "version": 3
   },
   "file_extension": ".py",
   "mimetype": "text/x-python",
   "name": "python",
   "nbconvert_exporter": "python",
   "pygments_lexer": "ipython3",
   "version": "3.10.8"
  }
 },
 "nbformat": 4,
 "nbformat_minor": 2
}
