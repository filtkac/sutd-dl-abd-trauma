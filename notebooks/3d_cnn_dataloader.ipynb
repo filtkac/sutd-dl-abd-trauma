{
 "cells": [
  {
   "cell_type": "code",
   "execution_count": 20,
   "id": "initial_id",
   "metadata": {
    "ExecuteTime": {
     "end_time": "2024-03-25T15:51:52.548238792Z",
     "start_time": "2024-03-25T15:51:52.419328547Z"
    },
    "collapsed": true
   },
   "outputs": [
    {
     "name": "stdout",
     "output_type": "stream",
     "text": [
      "The autoreload extension is already loaded. To reload it, use:\n",
      "  %reload_ext autoreload\n"
     ]
    }
   ],
   "source": [
    "import pandas as pd\n",
    "import matplotlib.pyplot as plt\n",
    "import zipfile\n",
    "import os\n",
    "import sys\n",
    "sys.path.append(\"../\")\n",
    "%load_ext autoreload\n",
    "%autoreload 2\n",
    "from sklearn.model_selection import train_test_split\n",
    "from dataloaders.patient_dataset import PatientDataset\n",
    "from torch.utils.data import DataLoader\n",
    "import torch.nn as nn\n",
    "import torch\n",
    "\n"
   ]
  },
  {
   "cell_type": "code",
   "execution_count": 26,
   "id": "ecb5ed9bdf89c18a",
   "metadata": {
    "ExecuteTime": {
     "end_time": "2024-03-25T15:51:54.082960993Z",
     "start_time": "2024-03-25T15:51:54.056885843Z"
    },
    "collapsed": false
   },
   "outputs": [
    {
     "name": "stdout",
     "output_type": "stream",
     "text": [
      "      Unnamed: 0  patient_id  bowel_healthy  bowel_injury  \\\n",
      "0              0       10004              1             0   \n",
      "1              1       10005              1             0   \n",
      "2              2       10007              1             0   \n",
      "3              3       10026              1             0   \n",
      "4              4       10051              1             0   \n",
      "...          ...         ...            ...           ...   \n",
      "2881        3142        9951              1             0   \n",
      "2882        3143        9960              1             0   \n",
      "2883        3144        9961              1             0   \n",
      "2884        3145        9980              1             0   \n",
      "2885        3146        9983              1             0   \n",
      "\n",
      "      extravasation_healthy  extravasation_injury  kidney_healthy  kidney_low  \\\n",
      "0                         0                     1               0           1   \n",
      "1                         1                     0               1           0   \n",
      "2                         1                     0               1           0   \n",
      "3                         1                     0               1           0   \n",
      "4                         1                     0               1           0   \n",
      "...                     ...                   ...             ...         ...   \n",
      "2881                      1                     0               1           0   \n",
      "2882                      1                     0               1           0   \n",
      "2883                      1                     0               1           0   \n",
      "2884                      1                     0               1           0   \n",
      "2885                      1                     0               1           0   \n",
      "\n",
      "      kidney_high  liver_healthy  liver_low  liver_high  spleen_healthy  \\\n",
      "0               0              1          0           0               0   \n",
      "1               0              1          0           0               1   \n",
      "2               0              1          0           0               1   \n",
      "3               0              1          0           0               1   \n",
      "4               0              1          0           0               0   \n",
      "...           ...            ...        ...         ...             ...   \n",
      "2881            0              1          0           0               1   \n",
      "2882            0              1          0           0               1   \n",
      "2883            0              1          0           0               1   \n",
      "2884            0              1          0           0               0   \n",
      "2885            0              1          0           0               0   \n",
      "\n",
      "      spleen_low  spleen_high  any_injury  \n",
      "0              0            1           1  \n",
      "1              0            0           0  \n",
      "2              0            0           0  \n",
      "3              0            0           0  \n",
      "4              1            0           1  \n",
      "...          ...          ...         ...  \n",
      "2881           0            0           0  \n",
      "2882           0            0           0  \n",
      "2883           0            0           0  \n",
      "2884           0            1           1  \n",
      "2885           0            1           1  \n",
      "\n",
      "[2886 rows x 16 columns]\n"
     ]
    }
   ],
   "source": [
    "# Filips file path\n",
    "#images_path = \"/home/filiptkac/Downloads/abd-trauma-dataset-reduced\"\n",
    "#labels_path = \"/home/filiptkac/Downloads/train_reduced.csv\"\n",
    "\n",
    "# michelles files path\n",
    "images_path = r\"C:\\Users\\miche\\Downloads\\dataset_reduced\\abd-trauma-dataset-reduced\"\n",
    "labels_path = r\"C:\\Users\\miche\\Downloads\\dataset_reduced\\train_reduced.csv\"\n",
    "\n",
    "df = pd.read_csv(labels_path)\n",
    "#print(df)\n"
   ]
  },
  {
   "cell_type": "code",
   "execution_count": 51,
   "id": "d0c117ea0029b19a",
   "metadata": {
    "ExecuteTime": {
     "end_time": "2024-03-25T15:52:07.379438308Z",
     "start_time": "2024-03-25T15:52:07.281429614Z"
    },
    "collapsed": false
   },
   "outputs": [
    {
     "name": "stdout",
     "output_type": "stream",
     "text": [
      "torch.Size([100, 128, 128])\n",
      "torch.Size([100, 128, 128])\n",
      "torch.Size([128, 128, 100, 1]) shape\n",
      "15\n",
      "2886\n",
      "torch.Size([128, 128, 100, 1])\n",
      "[0 1 0 0 1 0 1 0 1 0 0 0 0 1 1]\n"
     ]
    },
    {
     "data": {
      "image/png": "[encoded data removed]",
      "text/plain": [
       "<Figure size 640x480 with 1 Axes>"
      ]
     },
     "metadata": {},
     "output_type": "display_data"
    }
   ],
   "source": [
    "dataset = PatientDataset(images_path, df)\n",
    "images, labels = dataset[1]\n",
    "print(len(labels))\n",
    "print(len(dataset))\n",
    "print(images.shape)\n",
    "print(labels)\n",
    "\n",
    "sample_image = images[0].squeeze().numpy()\n",
    "plt.imshow(sample_image, cmap='gray')\n",
    "plt.axis('off')\n",
    "plt.show()"
   ]
  },
  {
   "cell_type": "code",
   "execution_count": null,
   "id": "d05b9478",
   "metadata": {},
   "outputs": [
    {
     "name": "stdout",
     "output_type": "stream",
     "text": [
      "2308\n",
      "289\n",
      "289\n",
      "train: 79.97227997227996 %\n",
      "val: 10.013860013860015 %\n",
      "test: 10.013860013860015 %\n"
     ]
    }
   ],
   "source": [
    "# Filips file path\n",
    "#images_path = \"/home/filiptkac/Downloads/abd-trauma-dataset-reduced\"\n",
    "#labels_path = \"/home/filiptkac/Downloads/train_reduced.csv\"\n",
    "\n",
    "# michelles files path\n",
    "images_path = r\"C:\\Users\\miche\\Downloads\\dataset_reduced\\abd-trauma-dataset-reduced\"\n",
    "labels_path = r\"C:\\Users\\miche\\Downloads\\dataset_reduced\\train_reduced.csv\"\n",
    "\n",
    "df = pd.read_csv(labels_path)\n",
    "\n",
    "\n",
    "# Create an empty list to store file paths\n",
    "file_paths = []\n",
    "\n",
    "# Iterate over files in images_path directory\n",
    "for filename in os.listdir(images_path):\n",
    "    file_path = os.path.join(images_path, filename)\n",
    "    # Append the file path to the list\n",
    "    file_paths.append(file_path)\n",
    "\n",
    "# Add a new column 'file_path' to the DataFrame\n",
    "df['file_path'] = file_paths\n",
    "\n",
    "\n",
    "\n",
    "# Split the dataset into train, validation, and test sets\n",
    "train_data, val_test_data = train_test_split(df, test_size=0.2, random_state=42)\n",
    "val_data, test_data = train_test_split(val_test_data, test_size=0.5, random_state=42)\n",
    "\n",
    "# check it has correct procentage\n",
    "print(len(train_data)) #80%\n",
    "print(len(val_data)) #10%\n",
    "print(len(test_data)) #10%\n",
    "\n",
    "print('train:', len(train_data)/len(df)*100,'%')\n",
    "print('val:', len(val_data)/len(df)*100,'%')\n",
    "print('test:', len(test_data)/len(df)*100,'%')\n",
    "\n",
    "# drop file name in train, val, test df\n",
    "train_data = train_data.drop(columns=['file_path'])\n",
    "train_data = val_data.drop(columns=['file_path'])\n",
    "train_data = test_data.drop(columns=['file_path'])\n",
    "\n"
   ]
  },
  {
   "cell_type": "code",
   "execution_count": null,
   "metadata": {},
   "outputs": [
    {
     "name": "stdout",
     "output_type": "stream",
     "text": [
      "---\n",
      "Batch number:  0\n",
      "Inputs shape: torch.Size([32, 100, 128, 128])\n",
      "tensor([[2816,    1,    0,    1,    0,    1,    0,    0,    1,    0,    0,    1,\n",
      "            0,    0,    0],\n",
      "        [1033,    1,    0,    1,    0,    1,    0,    0,    0,    1,    0,    1,\n",
      "            0,    0,    1],\n",
      "        [2221,    1,    0,    1,    0,    1,    0,    0,    1,    0,    0,    1,\n",
      "            0,    0,    0],\n",
      "        [ 591,    1,    0,    1,    0,    1,    0,    0,    0,    1,    0,    1,\n",
      "            0,    0,    1],\n",
      "        [ 860,    1,    0,    1,    0,    1,    0,    0,    1,    0,    0,    1,\n",
      "            0,    0,    0],\n",
      "        [1624,    1,    0,    1,    0,    1,    0,    0,    1,    0,    0,    1,\n",
      "            0,    0,    0],\n",
      "        [1373,    1,    0,    1,    0,    1,    0,    0,    1,    0,    0,    1,\n",
      "            0,    0,    0],\n",
      "        [2658,    1,    0,    1,    0,    1,    0,    0,    1,    0,    0,    1,\n",
      "            0,    0,    0],\n",
      "        [3107,    1,    0,    1,    0,    1,    0,    0,    1,    0,    0,    1,\n",
      "            0,    0,    0],\n",
      "        [1753,    1,    0,    1,    0,    1,    0,    0,    1,    0,    0,    1,\n",
      "            0,    0,    0],\n",
      "        [1326,    1,    0,    0,    1,    1,    0,    0,    1,    0,    0,    1,\n",
      "            0,    0,    1],\n",
      "        [ 665,    1,    0,    1,    0,    1,    0,    0,    0,    1,    0,    1,\n",
      "            0,    0,    1],\n",
      "        [ 136,    1,    0,    1,    0,    0,    0,    1,    0,    0,    1,    1,\n",
      "            0,    0,    1],\n",
      "        [ 833,    1,    0,    1,    0,    1,    0,    0,    1,    0,    0,    1,\n",
      "            0,    0,    0],\n",
      "        [ 719,    1,    0,    1,    0,    1,    0,    0,    1,    0,    0,    1,\n",
      "            0,    0,    0],\n",
      "        [1909,    1,    0,    1,    0,    1,    0,    0,    1,    0,    0,    1,\n",
      "            0,    0,    0],\n",
      "        [2937,    1,    0,    1,    0,    1,    0,    0,    1,    0,    0,    1,\n",
      "            0,    0,    0],\n",
      "        [ 271,    1,    0,    1,    0,    1,    0,    0,    1,    0,    0,    1,\n",
      "            0,    0,    0],\n",
      "        [2049,    1,    0,    1,    0,    1,    0,    0,    1,    0,    0,    1,\n",
      "            0,    0,    0],\n",
      "        [2721,    1,    0,    1,    0,    1,    0,    0,    1,    0,    0,    1,\n",
      "            0,    0,    0],\n",
      "        [2053,    1,    0,    1,    0,    1,    0,    0,    1,    0,    0,    1,\n",
      "            0,    0,    0],\n",
      "        [2682,    1,    0,    1,    0,    1,    0,    0,    0,    1,    0,    0,\n",
      "            1,    0,    1],\n",
      "        [1971,    1,    0,    1,    0,    1,    0,    0,    1,    0,    0,    1,\n",
      "            0,    0,    0],\n",
      "        [1181,    1,    0,    1,    0,    1,    0,    0,    1,    0,    0,    1,\n",
      "            0,    0,    0],\n",
      "        [ 602,    1,    0,    1,    0,    1,    0,    0,    1,    0,    0,    1,\n",
      "            0,    0,    0],\n",
      "        [  87,    1,    0,    1,    0,    1,    0,    0,    1,    0,    0,    1,\n",
      "            0,    0,    0],\n",
      "        [2847,    1,    0,    1,    0,    1,    0,    0,    1,    0,    0,    1,\n",
      "            0,    0,    0],\n",
      "        [ 148,    1,    0,    1,    0,    1,    0,    0,    1,    0,    0,    0,\n",
      "            1,    0,    1],\n",
      "        [1381,    1,    0,    1,    0,    1,    0,    0,    1,    0,    0,    1,\n",
      "            0,    0,    0],\n",
      "        [1486,    1,    0,    1,    0,    1,    0,    0,    1,    0,    0,    0,\n",
      "            0,    1,    1],\n",
      "        [1098,    1,    0,    1,    0,    0,    0,    1,    1,    0,    0,    0,\n",
      "            0,    1,    1],\n",
      "        [2864,    1,    0,    1,    0,    1,    0,    0,    1,    0,    0,    1,\n",
      "            0,    0,    0]])\n",
      "Labels shape: torch.Size([32, 15])\n"
     ]
    },
    {
     "ename": "KeyboardInterrupt",
     "evalue": "",
     "output_type": "error",
     "traceback": [
      "\u001b[1;31m---------------------------------------------------------------------------\u001b[0m",
      "\u001b[1;31mKeyboardInterrupt\u001b[0m                         Traceback (most recent call last)",
      "Cell \u001b[1;32mIn[19], line 19\u001b[0m\n\u001b[0;32m     12\u001b[0m test_dataloader \u001b[38;5;241m=\u001b[39m DataLoader(test_dataset, batch_size\u001b[38;5;241m=\u001b[39mbatch_size, shuffle\u001b[38;5;241m=\u001b[39m\u001b[38;5;28;01mFalse\u001b[39;00m)\n\u001b[0;32m     17\u001b[0m  \u001b[38;5;66;03m#Iterate over a few batches of data from train_loader \u001b[39;00m\n\u001b[1;32m---> 19\u001b[0m \u001b[38;5;28;01mfor\u001b[39;00m batch_number, batch \u001b[38;5;129;01min\u001b[39;00m \u001b[38;5;28menumerate\u001b[39m(train_dataloader):\n\u001b[0;32m     20\u001b[0m     \u001b[38;5;28mprint\u001b[39m(\u001b[38;5;124m\"\u001b[39m\u001b[38;5;124m---\u001b[39m\u001b[38;5;124m\"\u001b[39m)\n\u001b[0;32m     21\u001b[0m     \u001b[38;5;28mprint\u001b[39m(\u001b[38;5;124m\"\u001b[39m\u001b[38;5;124mBatch number: \u001b[39m\u001b[38;5;124m\"\u001b[39m, batch_number)\n",
      "File \u001b[1;32mc:\\Users\\miche\\anaconda3\\lib\\site-packages\\torch\\utils\\data\\dataloader.py:631\u001b[0m, in \u001b[0;36m_BaseDataLoaderIter.__next__\u001b[1;34m(self)\u001b[0m\n\u001b[0;32m    628\u001b[0m \u001b[38;5;28;01mif\u001b[39;00m \u001b[38;5;28mself\u001b[39m\u001b[38;5;241m.\u001b[39m_sampler_iter \u001b[38;5;129;01mis\u001b[39;00m \u001b[38;5;28;01mNone\u001b[39;00m:\n\u001b[0;32m    629\u001b[0m     \u001b[38;5;66;03m# TODO(https://github.com/pytorch/pytorch/issues/76750)\u001b[39;00m\n\u001b[0;32m    630\u001b[0m     \u001b[38;5;28mself\u001b[39m\u001b[38;5;241m.\u001b[39m_reset()  \u001b[38;5;66;03m# type: ignore[call-arg]\u001b[39;00m\n\u001b[1;32m--> 631\u001b[0m data \u001b[38;5;241m=\u001b[39m \u001b[38;5;28;43mself\u001b[39;49m\u001b[38;5;241;43m.\u001b[39;49m\u001b[43m_next_data\u001b[49m\u001b[43m(\u001b[49m\u001b[43m)\u001b[49m\n\u001b[0;32m    632\u001b[0m \u001b[38;5;28mself\u001b[39m\u001b[38;5;241m.\u001b[39m_num_yielded \u001b[38;5;241m+\u001b[39m\u001b[38;5;241m=\u001b[39m \u001b[38;5;241m1\u001b[39m\n\u001b[0;32m    633\u001b[0m \u001b[38;5;28;01mif\u001b[39;00m \u001b[38;5;28mself\u001b[39m\u001b[38;5;241m.\u001b[39m_dataset_kind \u001b[38;5;241m==\u001b[39m _DatasetKind\u001b[38;5;241m.\u001b[39mIterable \u001b[38;5;129;01mand\u001b[39;00m \\\n\u001b[0;32m    634\u001b[0m         \u001b[38;5;28mself\u001b[39m\u001b[38;5;241m.\u001b[39m_IterableDataset_len_called \u001b[38;5;129;01mis\u001b[39;00m \u001b[38;5;129;01mnot\u001b[39;00m \u001b[38;5;28;01mNone\u001b[39;00m \u001b[38;5;129;01mand\u001b[39;00m \\\n\u001b[0;32m    635\u001b[0m         \u001b[38;5;28mself\u001b[39m\u001b[38;5;241m.\u001b[39m_num_yielded \u001b[38;5;241m>\u001b[39m \u001b[38;5;28mself\u001b[39m\u001b[38;5;241m.\u001b[39m_IterableDataset_len_called:\n",
      "File \u001b[1;32mc:\\Users\\miche\\anaconda3\\lib\\site-packages\\torch\\utils\\data\\dataloader.py:675\u001b[0m, in \u001b[0;36m_SingleProcessDataLoaderIter._next_data\u001b[1;34m(self)\u001b[0m\n\u001b[0;32m    673\u001b[0m \u001b[38;5;28;01mdef\u001b[39;00m \u001b[38;5;21m_next_data\u001b[39m(\u001b[38;5;28mself\u001b[39m):\n\u001b[0;32m    674\u001b[0m     index \u001b[38;5;241m=\u001b[39m \u001b[38;5;28mself\u001b[39m\u001b[38;5;241m.\u001b[39m_next_index()  \u001b[38;5;66;03m# may raise StopIteration\u001b[39;00m\n\u001b[1;32m--> 675\u001b[0m     data \u001b[38;5;241m=\u001b[39m \u001b[38;5;28;43mself\u001b[39;49m\u001b[38;5;241;43m.\u001b[39;49m\u001b[43m_dataset_fetcher\u001b[49m\u001b[38;5;241;43m.\u001b[39;49m\u001b[43mfetch\u001b[49m\u001b[43m(\u001b[49m\u001b[43mindex\u001b[49m\u001b[43m)\u001b[49m  \u001b[38;5;66;03m# may raise StopIteration\u001b[39;00m\n\u001b[0;32m    676\u001b[0m     \u001b[38;5;28;01mif\u001b[39;00m \u001b[38;5;28mself\u001b[39m\u001b[38;5;241m.\u001b[39m_pin_memory:\n\u001b[0;32m    677\u001b[0m         data \u001b[38;5;241m=\u001b[39m _utils\u001b[38;5;241m.\u001b[39mpin_memory\u001b[38;5;241m.\u001b[39mpin_memory(data, \u001b[38;5;28mself\u001b[39m\u001b[38;5;241m.\u001b[39m_pin_memory_device)\n",
      "File \u001b[1;32mc:\\Users\\miche\\anaconda3\\lib\\site-packages\\torch\\utils\\data\\_utils\\fetch.py:51\u001b[0m, in \u001b[0;36m_MapDatasetFetcher.fetch\u001b[1;34m(self, possibly_batched_index)\u001b[0m\n\u001b[0;32m     49\u001b[0m         data \u001b[38;5;241m=\u001b[39m \u001b[38;5;28mself\u001b[39m\u001b[38;5;241m.\u001b[39mdataset\u001b[38;5;241m.\u001b[39m__getitems__(possibly_batched_index)\n\u001b[0;32m     50\u001b[0m     \u001b[38;5;28;01melse\u001b[39;00m:\n\u001b[1;32m---> 51\u001b[0m         data \u001b[38;5;241m=\u001b[39m [\u001b[38;5;28mself\u001b[39m\u001b[38;5;241m.\u001b[39mdataset[idx] \u001b[38;5;28;01mfor\u001b[39;00m idx \u001b[38;5;129;01min\u001b[39;00m possibly_batched_index]\n\u001b[0;32m     52\u001b[0m \u001b[38;5;28;01melse\u001b[39;00m:\n\u001b[0;32m     53\u001b[0m     data \u001b[38;5;241m=\u001b[39m \u001b[38;5;28mself\u001b[39m\u001b[38;5;241m.\u001b[39mdataset[possibly_batched_index]\n",
      "File \u001b[1;32mc:\\Users\\miche\\anaconda3\\lib\\site-packages\\torch\\utils\\data\\_utils\\fetch.py:51\u001b[0m, in \u001b[0;36m<listcomp>\u001b[1;34m(.0)\u001b[0m\n\u001b[0;32m     49\u001b[0m         data \u001b[38;5;241m=\u001b[39m \u001b[38;5;28mself\u001b[39m\u001b[38;5;241m.\u001b[39mdataset\u001b[38;5;241m.\u001b[39m__getitems__(possibly_batched_index)\n\u001b[0;32m     50\u001b[0m     \u001b[38;5;28;01melse\u001b[39;00m:\n\u001b[1;32m---> 51\u001b[0m         data \u001b[38;5;241m=\u001b[39m [\u001b[38;5;28;43mself\u001b[39;49m\u001b[38;5;241;43m.\u001b[39;49m\u001b[43mdataset\u001b[49m\u001b[43m[\u001b[49m\u001b[43midx\u001b[49m\u001b[43m]\u001b[49m \u001b[38;5;28;01mfor\u001b[39;00m idx \u001b[38;5;129;01min\u001b[39;00m possibly_batched_index]\n\u001b[0;32m     52\u001b[0m \u001b[38;5;28;01melse\u001b[39;00m:\n\u001b[0;32m     53\u001b[0m     data \u001b[38;5;241m=\u001b[39m \u001b[38;5;28mself\u001b[39m\u001b[38;5;241m.\u001b[39mdataset[possibly_batched_index]\n",
      "File \u001b[1;32mc:\\wamp64\\www\\Daredevil\\der\\sutd-dl-abd-trauma\\notebooks\\..\\dataloaders\\patient_dataset.py:30\u001b[0m, in \u001b[0;36mPatientDataset.__getitem__\u001b[1;34m(self, idx)\u001b[0m\n\u001b[0;32m     27\u001b[0m image_files \u001b[38;5;241m=\u001b[39m [\u001b[38;5;124mf\u001b[39m\u001b[38;5;124m\"\u001b[39m\u001b[38;5;132;01m{\u001b[39;00mf\u001b[38;5;132;01m}\u001b[39;00m\u001b[38;5;124m.png\u001b[39m\u001b[38;5;124m\"\u001b[39m \u001b[38;5;28;01mfor\u001b[39;00m f \u001b[38;5;129;01min\u001b[39;00m image_files]\n\u001b[0;32m     29\u001b[0m \u001b[38;5;28;01mfor\u001b[39;00m idx, fname \u001b[38;5;129;01min\u001b[39;00m \u001b[38;5;28menumerate\u001b[39m(image_files):\n\u001b[1;32m---> 30\u001b[0m     image \u001b[38;5;241m=\u001b[39m \u001b[43mImage\u001b[49m\u001b[38;5;241;43m.\u001b[39;49m\u001b[43mopen\u001b[49m\u001b[43m(\u001b[49m\u001b[38;5;124;43mf\u001b[39;49m\u001b[38;5;124;43m\"\u001b[39;49m\u001b[38;5;132;43;01m{\u001b[39;49;00m\u001b[38;5;28;43mself\u001b[39;49m\u001b[38;5;241;43m.\u001b[39;49m\u001b[43mimages_path\u001b[49m\u001b[38;5;132;43;01m}\u001b[39;49;00m\u001b[38;5;124;43m/\u001b[39;49m\u001b[38;5;132;43;01m{\u001b[39;49;00m\u001b[43mpid\u001b[49m\u001b[38;5;132;43;01m}\u001b[39;49;00m\u001b[38;5;124;43m/\u001b[39;49m\u001b[38;5;132;43;01m{\u001b[39;49;00m\u001b[43mfname\u001b[49m\u001b[38;5;132;43;01m}\u001b[39;49;00m\u001b[38;5;124;43m\"\u001b[39;49m\u001b[43m)\u001b[49m\u001b[38;5;241m.\u001b[39mconvert(\u001b[38;5;124m\"\u001b[39m\u001b[38;5;124mL\u001b[39m\u001b[38;5;124m\"\u001b[39m)\n\u001b[0;32m     31\u001b[0m     tensor \u001b[38;5;241m=\u001b[39m \u001b[38;5;28mself\u001b[39m\u001b[38;5;241m.\u001b[39mtransform(image)\n\u001b[0;32m     32\u001b[0m     images[idx] \u001b[38;5;241m=\u001b[39m tensor\n",
      "File \u001b[1;32mc:\\Users\\miche\\anaconda3\\lib\\site-packages\\PIL\\Image.py:3092\u001b[0m, in \u001b[0;36mopen\u001b[1;34m(fp, mode, formats)\u001b[0m\n\u001b[0;32m   3089\u001b[0m     filename \u001b[38;5;241m=\u001b[39m fp\n\u001b[0;32m   3091\u001b[0m \u001b[38;5;28;01mif\u001b[39;00m filename:\n\u001b[1;32m-> 3092\u001b[0m     fp \u001b[38;5;241m=\u001b[39m \u001b[43mbuiltins\u001b[49m\u001b[38;5;241;43m.\u001b[39;49m\u001b[43mopen\u001b[49m\u001b[43m(\u001b[49m\u001b[43mfilename\u001b[49m\u001b[43m,\u001b[49m\u001b[43m \u001b[49m\u001b[38;5;124;43m\"\u001b[39;49m\u001b[38;5;124;43mrb\u001b[39;49m\u001b[38;5;124;43m\"\u001b[39;49m\u001b[43m)\u001b[49m\n\u001b[0;32m   3093\u001b[0m     exclusive_fp \u001b[38;5;241m=\u001b[39m \u001b[38;5;28;01mTrue\u001b[39;00m\n\u001b[0;32m   3095\u001b[0m \u001b[38;5;28;01mtry\u001b[39;00m:\n",
      "\u001b[1;31mKeyboardInterrupt\u001b[0m: "
     ]
    }
   ],
   "source": [
    "# create preprocced train-, validation-, test- datasets\n",
    "train_dataset = PatientDataset(images_path, train_data)\n",
    "val_dataset = PatientDataset(images_path, val_data)\n",
    "test_dataset = PatientDataset(images_path, test_data)\n",
    "\n",
    "\n",
    "# create dataloaders for each dataset\n",
    "batch_size = 32 \n",
    "\n",
    "train_dataloader = DataLoader(train_dataset, batch_size=batch_size, shuffle=True) # shuffle = true, avoid any bias introduced by the order of the data.\n",
    "val_dataloader = DataLoader(val_dataset, batch_size=batch_size, shuffle=False)\n",
    "test_dataloader = DataLoader(test_dataset, batch_size=batch_size, shuffle=False)\n",
    "\n",
    "\n",
    "\n",
    "\n",
    " #Iterate over a few batches of data from train_loader \n",
    "\n",
    "for batch_number, batch in enumerate(train_dataloader):\n",
    "    print(\"---\")\n",
    "    print(\"Batch number: \", batch_number)\n",
    "    inputs, labels = batch  # Corrected: Change outputs to labels\n",
    "    print(\"Inputs shape:\", inputs.shape)\n",
    "    print(\"Labels shape:\", labels.shape)  # Corrected: Change outputs to labels\n",
    "\n",
    "\n",
    "\n"
   ]
  },
  {
   "cell_type": "code",
   "execution_count": null,
   "id": "a9e2dbea",
   "metadata": {},
   "outputs": [],
   "source": [
    "# create CNN Model"
   ]
  }
 ],
 "metadata": {
  "kernelspec": {
   "display_name": "Python 3",
   "language": "python",
   "name": "python3"
  },
  "language_info": {
   "codemirror_mode": {
    "name": "ipython",
    "version": 3
   },
   "file_extension": ".py",
   "mimetype": "text/x-python",
   "name": "python",
   "nbconvert_exporter": "python",
   "pygments_lexer": "ipython3",
   "version": "3.9.13"
  }
 },
 "nbformat": 4,
 "nbformat_minor": 5
}
