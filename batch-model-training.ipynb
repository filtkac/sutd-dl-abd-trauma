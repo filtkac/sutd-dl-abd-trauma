{
 "cells": [
  {
   "cell_type": "code",
   "execution_count": 88,
   "id": "initial_id",
   "metadata": {
    "collapsed": true,
    "ExecuteTime": {
     "end_time": "2024-03-25T12:57:41.929928922Z",
     "start_time": "2024-03-25T12:57:41.912980206Z"
    }
   },
   "outputs": [],
   "source": [
    "import pandas as pd\n",
    "import numpy as np\n",
    "from sklearn.model_selection import train_test_split\n",
    "import os\n",
    "from PIL import Image\n",
    "from tqdm import tqdm"
   ]
  },
  {
   "cell_type": "code",
   "outputs": [],
   "source": [
    "labels_path = \"/home/filiptkac/Downloads/train.csv\"\n",
    "images_path = \"/home/filiptkac/Downloads/abd-trauma-dataset\""
   ],
   "metadata": {
    "collapsed": false,
    "ExecuteTime": {
     "end_time": "2024-03-25T12:06:22.140164936Z",
     "start_time": "2024-03-25T12:06:22.078673447Z"
    }
   },
   "id": "af19bdcc20b194d",
   "execution_count": 19
  },
  {
   "cell_type": "code",
   "outputs": [
    {
     "data": {
      "text/plain": "   patient_id  bowel_healthy  bowel_injury  extravasation_healthy  \\\n0       10004              1             0                      0   \n1       10005              1             0                      1   \n2       10007              1             0                      1   \n3       10026              1             0                      1   \n4       10051              1             0                      1   \n\n   extravasation_injury  kidney_healthy  kidney_low  kidney_high  \\\n0                     1               0           1            0   \n1                     0               1           0            0   \n2                     0               1           0            0   \n3                     0               1           0            0   \n4                     0               1           0            0   \n\n   liver_healthy  liver_low  liver_high  spleen_healthy  spleen_low  \\\n0              1          0           0               0           0   \n1              1          0           0               1           0   \n2              1          0           0               1           0   \n3              1          0           0               1           0   \n4              1          0           0               0           1   \n\n   spleen_high  any_injury  \n0            1           1  \n1            0           0  \n2            0           0  \n3            0           0  \n4            0           1  ",
      "text/html": "<div>\n<style scoped>\n    .dataframe tbody tr th:only-of-type {\n        vertical-align: middle;\n    }\n\n    .dataframe tbody tr th {\n        vertical-align: top;\n    }\n\n    .dataframe thead th {\n        text-align: right;\n    }\n</style>\n<table border=\"1\" class=\"dataframe\">\n  <thead>\n    <tr style=\"text-align: right;\">\n      <th></th>\n      <th>patient_id</th>\n      <th>bowel_healthy</th>\n      <th>bowel_injury</th>\n      <th>extravasation_healthy</th>\n      <th>extravasation_injury</th>\n      <th>kidney_healthy</th>\n      <th>kidney_low</th>\n      <th>kidney_high</th>\n      <th>liver_healthy</th>\n      <th>liver_low</th>\n      <th>liver_high</th>\n      <th>spleen_healthy</th>\n      <th>spleen_low</th>\n      <th>spleen_high</th>\n      <th>any_injury</th>\n    </tr>\n  </thead>\n  <tbody>\n    <tr>\n      <th>0</th>\n      <td>10004</td>\n      <td>1</td>\n      <td>0</td>\n      <td>0</td>\n      <td>1</td>\n      <td>0</td>\n      <td>1</td>\n      <td>0</td>\n      <td>1</td>\n      <td>0</td>\n      <td>0</td>\n      <td>0</td>\n      <td>0</td>\n      <td>1</td>\n      <td>1</td>\n    </tr>\n    <tr>\n      <th>1</th>\n      <td>10005</td>\n      <td>1</td>\n      <td>0</td>\n      <td>1</td>\n      <td>0</td>\n      <td>1</td>\n      <td>0</td>\n      <td>0</td>\n      <td>1</td>\n      <td>0</td>\n      <td>0</td>\n      <td>1</td>\n      <td>0</td>\n      <td>0</td>\n      <td>0</td>\n    </tr>\n    <tr>\n      <th>2</th>\n      <td>10007</td>\n      <td>1</td>\n      <td>0</td>\n      <td>1</td>\n      <td>0</td>\n      <td>1</td>\n      <td>0</td>\n      <td>0</td>\n      <td>1</td>\n      <td>0</td>\n      <td>0</td>\n      <td>1</td>\n      <td>0</td>\n      <td>0</td>\n      <td>0</td>\n    </tr>\n    <tr>\n      <th>3</th>\n      <td>10026</td>\n      <td>1</td>\n      <td>0</td>\n      <td>1</td>\n      <td>0</td>\n      <td>1</td>\n      <td>0</td>\n      <td>0</td>\n      <td>1</td>\n      <td>0</td>\n      <td>0</td>\n      <td>1</td>\n      <td>0</td>\n      <td>0</td>\n      <td>0</td>\n    </tr>\n    <tr>\n      <th>4</th>\n      <td>10051</td>\n      <td>1</td>\n      <td>0</td>\n      <td>1</td>\n      <td>0</td>\n      <td>1</td>\n      <td>0</td>\n      <td>0</td>\n      <td>1</td>\n      <td>0</td>\n      <td>0</td>\n      <td>0</td>\n      <td>1</td>\n      <td>0</td>\n      <td>1</td>\n    </tr>\n  </tbody>\n</table>\n</div>"
     },
     "execution_count": 15,
     "metadata": {},
     "output_type": "execute_result"
    }
   ],
   "source": [
    "df = pd.read_csv(labels_path)\n",
    "df.head(5)"
   ],
   "metadata": {
    "collapsed": false,
    "ExecuteTime": {
     "end_time": "2024-03-25T12:05:29.536899686Z",
     "start_time": "2024-03-25T12:05:29.483117894Z"
    }
   },
   "id": "acd5bbabdc377a9b",
   "execution_count": 15
  },
  {
   "cell_type": "code",
   "outputs": [
    {
     "name": "stdout",
     "output_type": "stream",
     "text": [
      "minimum number of images in CT: 46, maximum number of images in CT: 1727\n",
      "number of CT scans with less than hundred images: 261\n"
     ]
    }
   ],
   "source": [
    "patients = os.listdir(images_path)\n",
    "\n",
    "min_images = None\n",
    "max_images = None\n",
    "patients_too_few_images = []\n",
    "\n",
    "for patient in patients:\n",
    "    files = os.listdir(f\"{images_path}/{patient}\")\n",
    "    files_amount = len(files)\n",
    "    if min_images is None or files_amount < min_images:\n",
    "        min_images = files_amount\n",
    "    if max_images is None or files_amount > max_images:\n",
    "        max_images = files_amount\n",
    "    if files_amount < 100:\n",
    "        patients_too_few_images.append(patient)\n",
    "\n",
    "print(f\"minimum number of images in CT: {min_images}, maximum number of images in CT: {max_images}\")\n",
    "print(f\"number of CT scans with less than hundred images: {len(patients_too_few_images)}\")"
   ],
   "metadata": {
    "collapsed": false,
    "ExecuteTime": {
     "end_time": "2024-03-25T12:13:56.011641420Z",
     "start_time": "2024-03-25T12:13:53.869512407Z"
    }
   },
   "id": "86d31028ab9762dc",
   "execution_count": 24
  },
  {
   "cell_type": "code",
   "outputs": [
    {
     "ename": "MemoryError",
     "evalue": "Unable to allocate 35.2 GiB for an array with shape (2886, 100, 128, 128) and data type float64",
     "output_type": "error",
     "traceback": [
      "\u001B[0;31m---------------------------------------------------------------------------\u001B[0m",
      "\u001B[0;31mMemoryError\u001B[0m                               Traceback (most recent call last)",
      "Cell \u001B[0;32mIn[90], line 2\u001B[0m\n\u001B[1;32m      1\u001B[0m num_of_channels \u001B[38;5;241m=\u001B[39m \u001B[38;5;241m100\u001B[39m\n\u001B[0;32m----> 2\u001B[0m patient_images \u001B[38;5;241m=\u001B[39m np\u001B[38;5;241m.\u001B[39mzeros((\u001B[38;5;28mlen\u001B[39m(patients) \u001B[38;5;241m-\u001B[39m \u001B[38;5;28mlen\u001B[39m (patients_too_few_images), num_of_channels, \u001B[38;5;241m128\u001B[39m, \u001B[38;5;241m128\u001B[39m))\n\u001B[1;32m      4\u001B[0m \u001B[38;5;28;01mfor\u001B[39;00m idx, patient \u001B[38;5;129;01min\u001B[39;00m \u001B[38;5;28menumerate\u001B[39m(tqdm(patients)):\n\u001B[1;32m      5\u001B[0m     \u001B[38;5;28;01mif\u001B[39;00m patient \u001B[38;5;129;01min\u001B[39;00m patients_too_few_images:\n",
      "\u001B[0;31mMemoryError\u001B[0m: Unable to allocate 35.2 GiB for an array with shape (2886, 100, 128, 128) and data type float64"
     ]
    }
   ],
   "source": [
    "num_of_channels = 100\n",
    "patient_images = np.zeros((len(patients) - len (patients_too_few_images), num_of_channels, 128, 128))\n",
    "\n",
    "for idx, patient in enumerate(tqdm(patients)):\n",
    "    if patient in patients_too_few_images:\n",
    "        continue\n",
    "\n",
    "    files = os.listdir(f\"{images_path}/{patient}\")\n",
    "    # take 100 images, so they're evenly spaced from the original images\n",
    "    file_indices = np.linspace(0, len(files) - 1, num_of_channels, dtype=int)\n",
    "    files = np.array(files)[file_indices]\n",
    "\n",
    "    images_per_patient = []\n",
    "    for file in files:\n",
    "        if file.endswith(('.jpg', '.jpeg', '.png', '.gif')):\n",
    "            img = Image.open(os.path.join(images_path, patient, file)).convert(\"L\")\n",
    "            img_array = np.array(img) / 255.0\n",
    "            images_per_patient.append(img_array)\n",
    "\n",
    "    patient_images[idx, :, :, :] = np.array(images_per_patient)\n",
    "    \n",
    "print(patient_images.shape)"
   ],
   "metadata": {
    "collapsed": false,
    "ExecuteTime": {
     "end_time": "2024-03-25T13:05:48.477503116Z",
     "start_time": "2024-03-25T13:05:48.474385704Z"
    }
   },
   "id": "32b1699fefee7cc2",
   "execution_count": 90
  },
  {
   "cell_type": "code",
   "outputs": [
    {
     "name": "stdout",
     "output_type": "stream",
     "text": [
      "[  0   1   3   4   6   7   9  10  12  13  15  16  18  19  21  22  24  25\n",
      "  27  28  30  31  33  34  36  37  39  40  42  43  45  46  48  50  51  53\n",
      "  54  56  57  59  60  62  63  65  66  68  69  71  72  74  75  77  78  80\n",
      "  81  83  84  86  87  89  90  92  93  95  96  98 100 101 103 104 106 107\n",
      " 109 110 112 113 115 116 118 119 121 122 124 125 127 128 130 131 133 134\n",
      " 136 137 139 140 142 143 145 146 148 150]\n"
     ]
    }
   ],
   "source": [
    "test_linspace = np.linspace(0, 150, 100)\n",
    "print(np.uint32(test_linspace))"
   ],
   "metadata": {
    "collapsed": false,
    "ExecuteTime": {
     "end_time": "2024-03-25T12:18:49.982907816Z",
     "start_time": "2024-03-25T12:18:49.974014592Z"
    }
   },
   "id": "a1aa7dde275916f1",
   "execution_count": 28
  }
 ],
 "metadata": {
  "kernelspec": {
   "display_name": "Python 3",
   "language": "python",
   "name": "python3"
  },
  "language_info": {
   "codemirror_mode": {
    "name": "ipython",
    "version": 2
   },
   "file_extension": ".py",
   "mimetype": "text/x-python",
   "name": "python",
   "nbconvert_exporter": "python",
   "pygments_lexer": "ipython2",
   "version": "2.7.6"
  }
 },
 "nbformat": 4,
 "nbformat_minor": 5
}
